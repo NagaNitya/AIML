{
  "nbformat": 4,
  "nbformat_minor": 0,
  "metadata": {
    "colab": {
      "provenance": [],
      "authorship_tag": "ABX9TyMXxybDC5SzEzKKFo+P8rjK"
    },
    "kernelspec": {
      "name": "python3",
      "display_name": "Python 3"
    },
    "language_info": {
      "name": "python"
    }
  },
  "cells": [
    {
      "cell_type": "markdown",
      "source": [
        "# Learning Keras"
      ],
      "metadata": {
        "id": "wV2U0OKSw27X"
      }
    },
    {
      "cell_type": "markdown",
      "source": [
        "Tensorflow is an opensource deep learning library developed by Google. It allows for the creation of dataflow graphs which describe how multidimensional data arrays move through a series of mathematical operations.\n",
        "\n",
        "Keras is an opensource library developed as a wrapper for Tensorflow, which allows fast development of deep neural networks."
      ],
      "metadata": {
        "id": "u8TGApgyw6ql"
      }
    },
    {
      "cell_type": "code",
      "execution_count": null,
      "metadata": {
        "id": "jY045HfawWEF"
      },
      "outputs": [],
      "source": []
    }
  ]
}