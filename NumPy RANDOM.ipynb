{
 "cells": [
  {
   "cell_type": "markdown",
   "metadata": {},
   "source": [
    "**LEARNING NumPy RANDOM FUNCTIONS**"
   ]
  },
  {
   "cell_type": "markdown",
   "metadata": {},
   "source": [
    "Random numbers are those which cannot be predicted or put in a sequence. Computers use algorithms to generate randome numbers; these are called *pseudo-random* numbers."
   ]
  },
  {
   "cell_type": "code",
   "execution_count": 2,
   "metadata": {},
   "outputs": [],
   "source": [
    "from numpy import random # module in NumPy to generate random numbers"
   ]
  },
  {
   "cell_type": "markdown",
   "metadata": {},
   "source": [
    "Random number may be generated using the `random` module in *NumPy*. The methods to create random numbers are:\n",
    "+ `random.rand()` for float\n",
    "+ `random.randint()` for int\n",
    "\n",
    "These may be applied to generate an array of random numbers as well, by passing the array size as parameters. Besides these methods, we can use the `random.choice()` to select a random element of a given array."
   ]
  },
  {
   "cell_type": "code",
   "execution_count": 3,
   "metadata": {},
   "outputs": [
    {
     "name": "stdout",
     "output_type": "stream",
     "text": [
      "35\n",
      "0.03287615248539055\n",
      "[[13 21  4  7]\n",
      " [ 1 35 36 30]\n",
      " [13  8 11  6]]\n",
      "[0.11163463 0.13824945 0.90797164 0.99815846]\n",
      "2\n"
     ]
    }
   ],
   "source": [
    "print(random.randint(1, 100)) # generate a random integer between 1 and 100\n",
    "print(random.rand()) # generate a random float between 0 and 1\n",
    "print(random.randint(50, size=(3, 4)))\n",
    "print(random.rand(4))\n",
    "print(random.choice([2, 3, 4, 5, 7, 8, 1]))"
   ]
  },
  {
   "cell_type": "markdown",
   "metadata": {},
   "source": [
    "DATA DISTRIBUTION\n",
    "\n",
    "A *data distribution* is a list of all possible values, as well as how often each value occurs.\n",
    "\n",
    "A *random distribution* is a set of random numbers that follow a *probability density function*. A probability density function is a function that describes a continuous probability.\n",
    "\n",
    "We can generate random numbers on defined probabilities by using the `random.choice()` method. Here there are 3 main parameters:\n",
    "+ The array of number to choose randomly from.\n",
    "+ `p` ie. the probability that each number will be included.\n",
    "+ `size` ie. the number of values to generate."
   ]
  },
  {
   "cell_type": "code",
   "execution_count": 4,
   "metadata": {},
   "outputs": [
    {
     "name": "stdout",
     "output_type": "stream",
     "text": [
      "[7 7 7 7 5 7 5 7 5 7 3 3 3 3 5 3 7 7 5 3 7 7 7 3 3 7 7 7 7 5 5 5 5 7 7 7 7\n",
      " 7 7 7 7 7 7 5 7 7 3 3 7 3 5 5 7 7 7 7 7 7 3 7 5 7 7 5 5 7 7 7 7 7 7 7 7 7\n",
      " 3 3 3 5 7 7 5 7 7 5 7 7 7 7 5 7 3 5 7 7 7 7 5 5 7 5]\n"
     ]
    }
   ],
   "source": [
    "# generate 100 values from the given numbers [3, 5, 7, 9]\n",
    "# the probability of each value occurring in the final distribution is given by the 'p' array. eg. 3 and 10% chance of occurring.\n",
    "x=random.choice([3, 5, 7, 9], p=[0.1, 0.3, 0.6, 0.0], size=(100))\n",
    "print(x)"
   ]
  },
  {
   "cell_type": "markdown",
   "metadata": {},
   "source": [
    "notice that the number 9 did not appear at all in the distribution. This is because the probability of it, as given in the `p` array is 0.\n",
    "\n",
    "Also note that the sum of probabilities must equal 1. ie. `0.1+0.3+0.6+0.0=1.0`"
   ]
  },
  {
   "cell_type": "code",
   "execution_count": 5,
   "metadata": {},
   "outputs": [
    {
     "name": "stdout",
     "output_type": "stream",
     "text": [
      "[[7 5 7 7 7]\n",
      " [7 7 5 7 7]\n",
      " [5 7 7 7 7]]\n"
     ]
    }
   ],
   "source": [
    "z = random.choice([3, 5, 7, 9], p=[0.1, 0.3, 0.6, 0.0], size=(3, 5))\n",
    "print(z)"
   ]
  }
 ],
 "metadata": {
  "kernelspec": {
   "display_name": "Python 3",
   "language": "python",
   "name": "python3"
  },
  "language_info": {
   "codemirror_mode": {
    "name": "ipython",
    "version": 3
   },
   "file_extension": ".py",
   "mimetype": "text/x-python",
   "name": "python",
   "nbconvert_exporter": "python",
   "pygments_lexer": "ipython3",
   "version": "3.12.2"
  }
 },
 "nbformat": 4,
 "nbformat_minor": 2
}
