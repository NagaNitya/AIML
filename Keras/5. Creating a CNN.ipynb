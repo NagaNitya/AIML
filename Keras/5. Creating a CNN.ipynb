{
  "cells": [
    {
      "cell_type": "markdown",
      "metadata": {
        "id": "QA8Qhu42z9MS"
      },
      "source": [
        "# Creating a CNN"
      ]
    },
    {
      "cell_type": "markdown",
      "metadata": {
        "id": "NBWgBADR1L8c"
      },
      "source": [
        "### Import Libraries"
      ]
    },
    {
      "cell_type": "code",
      "execution_count": 3,
      "metadata": {
        "id": "h3cypElTz7gJ"
      },
      "outputs": [],
      "source": [
        "from keras.datasets import cifar10\n",
        "from keras.models import Model\n",
        "from keras.layers import Dense, Dropout, Flatten, Conv2D, MaxPooling2D, Input\n",
        "from keras.optimizers import Adam\n",
        "from keras.callbacks import EarlyStopping\n",
        "from tensorflow.keras.utils import to_categorical\n",
        "from sklearn.metrics import classification_report, confusion_matrix\n",
        "import numpy as np\n",
        "import matplotlib.pyplot as plt"
      ]
    },
    {
      "cell_type": "markdown",
      "metadata": {
        "id": "poLr6MYMz7Wf"
      },
      "source": [
        "### Prepare the Dataset"
      ]
    },
    {
      "cell_type": "markdown",
      "metadata": {
        "id": "zx5_uMJT0eZy"
      },
      "source": [
        "We will be making use of the *Cifar-10* dataset, which consists of 32x32 pixel images.\n",
        "\n",
        "Divide the dataset into training and testing sets. Normalise the data into the range (0, 1) by dividing with the highest pixel value (255.0), then convert to vectors."
      ]
    },
    {
      "cell_type": "code",
      "execution_count": 4,
      "metadata": {
        "colab": {
          "base_uri": "https://localhost:8080/"
        },
        "id": "_lXKiORPz6ie",
        "outputId": "c3f1c193-d490-4594-a620-f6e162db6d51"
      },
      "outputs": [],
      "source": [
        "(trainimage, trainlabel), (testimage, testlabel) = cifar10.load_data()\n",
        "trainimage, testimage=trainimage/255.0, testimage/255.0\n",
        "trainlabelarray=to_categorical(trainlabel, 10)\n",
        "testlabelarray=to_categorical(testlabel, 10)\n",
        "classnames=['airplane', 'automobile', 'bird', 'cat', 'deer', 'dog', 'frog', 'horse', 'ship', 'truck']\n"
      ]
    },
    {
      "cell_type": "markdown",
      "metadata": {
        "id": "0daLduQd57aF"
      },
      "source": [
        "### Create a Model"
      ]
    },
    {
      "cell_type": "markdown",
      "metadata": {
        "id": "q8Hxb00c6Ddx"
      },
      "source": [
        "Create a model by stacking Conv2D layers. Note that we use a pooling layer after each conv2D layer, wg=hich eill help to reduce the dimentions of the feature map provided by the Conv2D layer. \n",
        "\n",
        "`Dropout` is a regularisation technique. in dropout, a number of neurons are randomly dropped from the layer, and do not take part in processing activities. this is done to improve generalisation and reduce the dependency of the model of a few neurons.\n",
        "\n",
        "A `Flatten` layer is also included, before the data is fed into the dense layers. The `Flatten` layer is used to reduce the data to one dimension so that it may be fed into the dense layer for further processing.\n",
        "\n"
      ]
    },
    {
      "cell_type": "code",
      "execution_count": 5,
      "metadata": {
        "id": "X08e3b7K3_6E"
      },
      "outputs": [],
      "source": [
        "def createModel():\n",
        "  # input layer\n",
        "  input=Input(shape=(32, 32, 3), name='input')\n",
        "  # first convolutional layer\n",
        "  conv1=Conv2D(32, (3, 3), activation='relu', input_shape=(32, 32, 3), name='conv1')(input)\n",
        "  # max pooling layer\n",
        "  pool1=MaxPooling2D(2, 2)(conv1)\n",
        "  # dropout layer\n",
        "  drop1=Dropout(0.5)(pool1)\n",
        "\n",
        "  # second convolutional layer\n",
        "  conv2=Conv2D(64, (3, 3), activation='relu', name='conv2')(drop1)\n",
        "  pool2=MaxPooling2D(2, 2)(conv2)\n",
        "  drop2=Dropout(0.5)(pool2)\n",
        "\n",
        "  # third convolutional layer\n",
        "  conv3=Conv2D(128, (3, 3), activation='relu', name='conv3')(drop2)\n",
        "\n",
        "  # flatten layer\n",
        "  flat=Flatten()(conv3)\n",
        "\n",
        "  # dense layer\n",
        "  dense1=Dense(128, activation='relu', name='dense1')(flat)\n",
        "  output=Dense(10, activation='softmax', name='output')(dense1)\n",
        "  model=Model(inputs=input, outputs=output)\n",
        "  return model"
      ]
    },
    {
      "cell_type": "markdown",
      "metadata": {},
      "source": [
        "### Compile the Model"
      ]
    },
    {
      "cell_type": "code",
      "execution_count": 6,
      "metadata": {
        "colab": {
          "base_uri": "https://localhost:8080/"
        },
        "id": "587_3jrYBYSp",
        "outputId": "41b12e0d-4fc5-4278-8da5-5debf7bc6beb"
      },
      "outputs": [
        {
          "name": "stderr",
          "output_type": "stream",
          "text": [
            "c:\\Users\\nagan\\AppData\\Local\\Programs\\Python\\Python312\\Lib\\site-packages\\keras\\src\\layers\\convolutional\\base_conv.py:107: UserWarning: Do not pass an `input_shape`/`input_dim` argument to a layer. When using Sequential models, prefer using an `Input(shape)` object as the first layer in the model instead.\n",
            "  super().__init__(activity_regularizer=activity_regularizer, **kwargs)\n"
          ]
        }
      ],
      "source": [
        "model=createModel()\n",
        "model.compile(optimizer=Adam(), loss='categorical_crossentropy', metrics=['accuracy'])"
      ]
    },
    {
      "cell_type": "markdown",
      "metadata": {},
      "source": [
        "### Train the Model"
      ]
    },
    {
      "cell_type": "markdown",
      "metadata": {},
      "source": [
        "Add the early stopping callback and train the model on the data."
      ]
    },
    {
      "cell_type": "code",
      "execution_count": 7,
      "metadata": {
        "colab": {
          "base_uri": "https://localhost:8080/"
        },
        "id": "OPsRdoHyBqaQ",
        "outputId": "e001f72f-83cf-464d-f301-4fcf72ac1b8d"
      },
      "outputs": [
        {
          "name": "stdout",
          "output_type": "stream",
          "text": [
            "Epoch 1/100\n",
            "\u001b[1m1250/1250\u001b[0m \u001b[32m━━━━━━━━━━━━━━━━━━━━\u001b[0m\u001b[37m\u001b[0m \u001b[1m33s\u001b[0m 23ms/step - accuracy: 0.2921 - loss: 1.8847 - val_accuracy: 0.5091 - val_loss: 1.3868\n",
            "Epoch 2/100\n",
            "\u001b[1m1250/1250\u001b[0m \u001b[32m━━━━━━━━━━━━━━━━━━━━\u001b[0m\u001b[37m\u001b[0m \u001b[1m26s\u001b[0m 21ms/step - accuracy: 0.4940 - loss: 1.4023 - val_accuracy: 0.5366 - val_loss: 1.3289\n",
            "Epoch 3/100\n",
            "\u001b[1m1250/1250\u001b[0m \u001b[32m━━━━━━━━━━━━━━━━━━━━\u001b[0m\u001b[37m\u001b[0m \u001b[1m27s\u001b[0m 22ms/step - accuracy: 0.5488 - loss: 1.2576 - val_accuracy: 0.5549 - val_loss: 1.2576\n",
            "Epoch 4/100\n",
            "\u001b[1m1250/1250\u001b[0m \u001b[32m━━━━━━━━━━━━━━━━━━━━\u001b[0m\u001b[37m\u001b[0m \u001b[1m25s\u001b[0m 20ms/step - accuracy: 0.5830 - loss: 1.1812 - val_accuracy: 0.5733 - val_loss: 1.1687\n",
            "Epoch 5/100\n",
            "\u001b[1m1250/1250\u001b[0m \u001b[32m━━━━━━━━━━━━━━━━━━━━\u001b[0m\u001b[37m\u001b[0m \u001b[1m31s\u001b[0m 25ms/step - accuracy: 0.5995 - loss: 1.1259 - val_accuracy: 0.6275 - val_loss: 1.0486\n",
            "Epoch 6/100\n",
            "\u001b[1m1250/1250\u001b[0m \u001b[32m━━━━━━━━━━━━━━━━━━━━\u001b[0m\u001b[37m\u001b[0m \u001b[1m28s\u001b[0m 22ms/step - accuracy: 0.6197 - loss: 1.0641 - val_accuracy: 0.6408 - val_loss: 1.0184\n",
            "Epoch 7/100\n",
            "\u001b[1m1250/1250\u001b[0m \u001b[32m━━━━━━━━━━━━━━━━━━━━\u001b[0m\u001b[37m\u001b[0m \u001b[1m27s\u001b[0m 22ms/step - accuracy: 0.6309 - loss: 1.0362 - val_accuracy: 0.6008 - val_loss: 1.1493\n",
            "Epoch 8/100\n",
            "\u001b[1m1250/1250\u001b[0m \u001b[32m━━━━━━━━━━━━━━━━━━━━\u001b[0m\u001b[37m\u001b[0m \u001b[1m29s\u001b[0m 23ms/step - accuracy: 0.6475 - loss: 0.9868 - val_accuracy: 0.6410 - val_loss: 1.0147\n",
            "Epoch 9/100\n",
            "\u001b[1m1250/1250\u001b[0m \u001b[32m━━━━━━━━━━━━━━━━━━━━\u001b[0m\u001b[37m\u001b[0m \u001b[1m27s\u001b[0m 21ms/step - accuracy: 0.6642 - loss: 0.9536 - val_accuracy: 0.6537 - val_loss: 0.9911\n",
            "Epoch 10/100\n",
            "\u001b[1m1250/1250\u001b[0m \u001b[32m━━━━━━━━━━━━━━━━━━━━\u001b[0m\u001b[37m\u001b[0m \u001b[1m26s\u001b[0m 21ms/step - accuracy: 0.6712 - loss: 0.9277 - val_accuracy: 0.6811 - val_loss: 0.9091\n",
            "Epoch 11/100\n",
            "\u001b[1m1250/1250\u001b[0m \u001b[32m━━━━━━━━━━━━━━━━━━━━\u001b[0m\u001b[37m\u001b[0m \u001b[1m27s\u001b[0m 22ms/step - accuracy: 0.6805 - loss: 0.9035 - val_accuracy: 0.6687 - val_loss: 0.9621\n",
            "Epoch 12/100\n",
            "\u001b[1m1250/1250\u001b[0m \u001b[32m━━━━━━━━━━━━━━━━━━━━\u001b[0m\u001b[37m\u001b[0m \u001b[1m38s\u001b[0m 19ms/step - accuracy: 0.6911 - loss: 0.8754 - val_accuracy: 0.6724 - val_loss: 0.9427\n",
            "Epoch 13/100\n",
            "\u001b[1m1250/1250\u001b[0m \u001b[32m━━━━━━━━━━━━━━━━━━━━\u001b[0m\u001b[37m\u001b[0m \u001b[1m25s\u001b[0m 20ms/step - accuracy: 0.6977 - loss: 0.8659 - val_accuracy: 0.6961 - val_loss: 0.8711\n",
            "Epoch 14/100\n",
            "\u001b[1m1250/1250\u001b[0m \u001b[32m━━━━━━━━━━━━━━━━━━━━\u001b[0m\u001b[37m\u001b[0m \u001b[1m24s\u001b[0m 19ms/step - accuracy: 0.7033 - loss: 0.8446 - val_accuracy: 0.6704 - val_loss: 0.9431\n",
            "Epoch 15/100\n",
            "\u001b[1m1250/1250\u001b[0m \u001b[32m━━━━━━━━━━━━━━━━━━━━\u001b[0m\u001b[37m\u001b[0m \u001b[1m25s\u001b[0m 20ms/step - accuracy: 0.7109 - loss: 0.8249 - val_accuracy: 0.6932 - val_loss: 0.8913\n",
            "Epoch 16/100\n",
            "\u001b[1m1250/1250\u001b[0m \u001b[32m━━━━━━━━━━━━━━━━━━━━\u001b[0m\u001b[37m\u001b[0m \u001b[1m22s\u001b[0m 18ms/step - accuracy: 0.7130 - loss: 0.8112 - val_accuracy: 0.6831 - val_loss: 0.9281\n",
            "Epoch 17/100\n",
            "\u001b[1m1250/1250\u001b[0m \u001b[32m━━━━━━━━━━━━━━━━━━━━\u001b[0m\u001b[37m\u001b[0m \u001b[1m27s\u001b[0m 21ms/step - accuracy: 0.7250 - loss: 0.7887 - val_accuracy: 0.6869 - val_loss: 0.9153\n",
            "Epoch 18/100\n",
            "\u001b[1m1250/1250\u001b[0m \u001b[32m━━━━━━━━━━━━━━━━━━━━\u001b[0m\u001b[37m\u001b[0m \u001b[1m23s\u001b[0m 18ms/step - accuracy: 0.7308 - loss: 0.7678 - val_accuracy: 0.6896 - val_loss: 0.9202\n",
            "Epoch 19/100\n",
            "\u001b[1m1250/1250\u001b[0m \u001b[32m━━━━━━━━━━━━━━━━━━━━\u001b[0m\u001b[37m\u001b[0m \u001b[1m22s\u001b[0m 18ms/step - accuracy: 0.7331 - loss: 0.7542 - val_accuracy: 0.7100 - val_loss: 0.8477\n",
            "Epoch 20/100\n",
            "\u001b[1m1250/1250\u001b[0m \u001b[32m━━━━━━━━━━━━━━━━━━━━\u001b[0m\u001b[37m\u001b[0m \u001b[1m21s\u001b[0m 17ms/step - accuracy: 0.7332 - loss: 0.7480 - val_accuracy: 0.6932 - val_loss: 0.9081\n",
            "Epoch 21/100\n",
            "\u001b[1m1250/1250\u001b[0m \u001b[32m━━━━━━━━━━━━━━━━━━━━\u001b[0m\u001b[37m\u001b[0m \u001b[1m23s\u001b[0m 18ms/step - accuracy: 0.7415 - loss: 0.7329 - val_accuracy: 0.7002 - val_loss: 0.8681\n",
            "Epoch 22/100\n",
            "\u001b[1m1250/1250\u001b[0m \u001b[32m━━━━━━━━━━━━━━━━━━━━\u001b[0m\u001b[37m\u001b[0m \u001b[1m22s\u001b[0m 18ms/step - accuracy: 0.7454 - loss: 0.7240 - val_accuracy: 0.7031 - val_loss: 0.8684\n",
            "Epoch 23/100\n",
            "\u001b[1m1250/1250\u001b[0m \u001b[32m━━━━━━━━━━━━━━━━━━━━\u001b[0m\u001b[37m\u001b[0m \u001b[1m22s\u001b[0m 18ms/step - accuracy: 0.7448 - loss: 0.7192 - val_accuracy: 0.7228 - val_loss: 0.8095\n",
            "Epoch 24/100\n",
            "\u001b[1m1250/1250\u001b[0m \u001b[32m━━━━━━━━━━━━━━━━━━━━\u001b[0m\u001b[37m\u001b[0m \u001b[1m22s\u001b[0m 17ms/step - accuracy: 0.7455 - loss: 0.7073 - val_accuracy: 0.6804 - val_loss: 0.9525\n",
            "Epoch 25/100\n",
            "\u001b[1m1250/1250\u001b[0m \u001b[32m━━━━━━━━━━━━━━━━━━━━\u001b[0m\u001b[37m\u001b[0m \u001b[1m21s\u001b[0m 17ms/step - accuracy: 0.7548 - loss: 0.6969 - val_accuracy: 0.7034 - val_loss: 0.8543\n",
            "Epoch 26/100\n",
            "\u001b[1m1250/1250\u001b[0m \u001b[32m━━━━━━━━━━━━━━━━━━━━\u001b[0m\u001b[37m\u001b[0m \u001b[1m26s\u001b[0m 21ms/step - accuracy: 0.7583 - loss: 0.6809 - val_accuracy: 0.6975 - val_loss: 0.9007\n",
            "Epoch 27/100\n",
            "\u001b[1m1250/1250\u001b[0m \u001b[32m━━━━━━━━━━━━━━━━━━━━\u001b[0m\u001b[37m\u001b[0m \u001b[1m24s\u001b[0m 19ms/step - accuracy: 0.7582 - loss: 0.6845 - val_accuracy: 0.7118 - val_loss: 0.8420\n",
            "Epoch 28/100\n",
            "\u001b[1m1250/1250\u001b[0m \u001b[32m━━━━━━━━━━━━━━━━━━━━\u001b[0m\u001b[37m\u001b[0m \u001b[1m23s\u001b[0m 18ms/step - accuracy: 0.7621 - loss: 0.6744 - val_accuracy: 0.7162 - val_loss: 0.8418\n",
            "Epoch 29/100\n",
            "\u001b[1m1250/1250\u001b[0m \u001b[32m━━━━━━━━━━━━━━━━━━━━\u001b[0m\u001b[37m\u001b[0m \u001b[1m24s\u001b[0m 19ms/step - accuracy: 0.7620 - loss: 0.6781 - val_accuracy: 0.7016 - val_loss: 0.8862\n",
            "Epoch 30/100\n",
            "\u001b[1m1250/1250\u001b[0m \u001b[32m━━━━━━━━━━━━━━━━━━━━\u001b[0m\u001b[37m\u001b[0m \u001b[1m24s\u001b[0m 19ms/step - accuracy: 0.7715 - loss: 0.6432 - val_accuracy: 0.6980 - val_loss: 0.9040\n",
            "Epoch 31/100\n",
            "\u001b[1m1250/1250\u001b[0m \u001b[32m━━━━━━━━━━━━━━━━━━━━\u001b[0m\u001b[37m\u001b[0m \u001b[1m24s\u001b[0m 19ms/step - accuracy: 0.7736 - loss: 0.6418 - val_accuracy: 0.6989 - val_loss: 0.8908\n",
            "Epoch 32/100\n",
            "\u001b[1m1250/1250\u001b[0m \u001b[32m━━━━━━━━━━━━━━━━━━━━\u001b[0m\u001b[37m\u001b[0m \u001b[1m24s\u001b[0m 19ms/step - accuracy: 0.7679 - loss: 0.6496 - val_accuracy: 0.7172 - val_loss: 0.8405\n",
            "Epoch 33/100\n",
            "\u001b[1m1250/1250\u001b[0m \u001b[32m━━━━━━━━━━━━━━━━━━━━\u001b[0m\u001b[37m\u001b[0m \u001b[1m23s\u001b[0m 19ms/step - accuracy: 0.7737 - loss: 0.6341 - val_accuracy: 0.7120 - val_loss: 0.8697\n",
            "Epoch 33: early stopping\n",
            "Restoring model weights from the end of the best epoch: 23.\n"
          ]
        }
      ],
      "source": [
        "earlystopping=EarlyStopping(monitor='val_loss', patience=10, verbose=1, restore_best_weights=True)\n",
        "history=model.fit(trainimage, trainlabelarray, epochs=100, shuffle=True, validation_split=0.2, callbacks=[earlystopping])"
      ]
    },
    {
      "cell_type": "markdown",
      "metadata": {},
      "source": [
        "Here we see that due to the action of early stopping, the training has stopped at 33 epochs instead of completing all 100."
      ]
    },
    {
      "cell_type": "markdown",
      "metadata": {},
      "source": [
        "### Test the Model"
      ]
    },
    {
      "cell_type": "code",
      "execution_count": 8,
      "metadata": {
        "id": "k3kOs9OvDnq3"
      },
      "outputs": [],
      "source": [
        "def testModel(model, x, y):\n",
        "  ypred=model.predict(x)\n",
        "  ypred=np.argmax(ypred, axis=1)\n",
        "  print(\"confusion matrix\\n\", confusion_matrix(y, ypred))\n",
        "  print(\"classification report\\n\", classification_report(y, ypred))\n"
      ]
    },
    {
      "cell_type": "code",
      "execution_count": 9,
      "metadata": {
        "colab": {
          "base_uri": "https://localhost:8080/"
        },
        "id": "nQkZkgPSD7a-",
        "outputId": "1f43d430-1cf3-4a49-c291-8eb9693e5714"
      },
      "outputs": [
        {
          "name": "stdout",
          "output_type": "stream",
          "text": [
            "\u001b[1m313/313\u001b[0m \u001b[32m━━━━━━━━━━━━━━━━━━━━\u001b[0m\u001b[37m\u001b[0m \u001b[1m2s\u001b[0m 6ms/step\n",
            "confusion matrix\n",
            " [[731  15  51  20  23   7  10   7 102  34]\n",
            " [ 16 813  10  13   7   8  23   6  31  73]\n",
            " [ 62   4 572  85 108  50  69  24  20   6]\n",
            " [ 17   5  68 541  89 152  80  28  11   9]\n",
            " [ 19   1  57  56 719  23  53  56  11   5]\n",
            " [  7   2  49 193  58 595  36  48  11   1]\n",
            " [  2   1  36  54  43  14 835   5   7   3]\n",
            " [ 10   1  28  48  88  55  15 740   4  11]\n",
            " [ 49  23  12  13  13   4   8   5 858  15]\n",
            " [ 29  79   9  24  11  10  20  14  35 769]]\n",
            "classification report\n",
            "               precision    recall  f1-score   support\n",
            "\n",
            "           0       0.78      0.73      0.75      1000\n",
            "           1       0.86      0.81      0.84      1000\n",
            "           2       0.64      0.57      0.60      1000\n",
            "           3       0.52      0.54      0.53      1000\n",
            "           4       0.62      0.72      0.67      1000\n",
            "           5       0.65      0.59      0.62      1000\n",
            "           6       0.73      0.83      0.78      1000\n",
            "           7       0.79      0.74      0.77      1000\n",
            "           8       0.79      0.86      0.82      1000\n",
            "           9       0.83      0.77      0.80      1000\n",
            "\n",
            "    accuracy                           0.72     10000\n",
            "   macro avg       0.72      0.72      0.72     10000\n",
            "weighted avg       0.72      0.72      0.72     10000\n",
            "\n"
          ]
        }
      ],
      "source": [
        "testModel(model, testimage, testlabel)"
      ]
    },
    {
      "cell_type": "code",
      "execution_count": 10,
      "metadata": {},
      "outputs": [],
      "source": [
        "def plot_history(history):\n",
        "    plt.plot(history.history['accuracy'], label='accuracy')\n",
        "    plt.plot(history.history['val_accuracy'], label='val_accuracy')\n",
        "    plt.plot(history.history['loss'], label='loss')\n",
        "    plt.plot(history.history['val_loss'], label='val_loss')\n",
        "    plt.title('Model accuracy')\n",
        "    plt.xlabel('Epoch')\n",
        "    plt.ylabel('Accuracy')\n",
        "    plt.ylim([0, 1])\n",
        "    plt.legend()\n",
        "    plt.show()"
      ]
    },
    {
      "cell_type": "code",
      "execution_count": 11,
      "metadata": {},
      "outputs": [
        {
          "data": {
            "image/png": "[encoded data removed]",
            "text/plain": [
              "<Figure size 640x480 with 1 Axes>"
            ]
          },
          "metadata": {},
          "output_type": "display_data"
        }
      ],
      "source": [
        "plot_history(history)"
      ]
    },
    {
      "cell_type": "markdown",
      "metadata": {},
      "source": [
        "### Sources"
      ]
    },
    {
      "cell_type": "markdown",
      "metadata": {},
      "source": [
        "+ [Infosys Springboard](https://infyspringboard.onwingspan.com/web/en/viewer/video/lex_auth_01329472454671564827503_shared?collectionId=lex_auth_01329472278937600027536_shared&collectionType=Course&pathId=lex_auth_01329472325597593627505_shared)\n",
        "+ [geeksforgeeks.org](https://www.geeksforgeeks.org/what-is-a-neural-network-flatten-layer/)"
      ]
    }
  ],
  "metadata": {
    "colab": {
      "provenance": []
    },
    "kernelspec": {
      "display_name": "Python 3",
      "name": "python3"
    },
    "language_info": {
      "codemirror_mode": {
        "name": "ipython",
        "version": 3
      },
      "file_extension": ".py",
      "mimetype": "text/x-python",
      "name": "python",
      "nbconvert_exporter": "python",
      "pygments_lexer": "ipython3",
      "version": "3.12.2"
    }
  },
  "nbformat": 4,
  "nbformat_minor": 0
}
