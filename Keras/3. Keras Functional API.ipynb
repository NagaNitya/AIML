{
 "cells": [
  {
   "cell_type": "markdown",
   "metadata": {
    "id": "1ZggVS2rsJhj"
   },
   "source": [
    "# Using the Keras Functional API"
   ]
  },
  {
   "cell_type": "markdown",
   "metadata": {
    "id": "vZOjHEgUsQVf"
   },
   "source": [
    "Let us create another model, which will improve upon the sequential model we made in the last notebook by using the *Keras functional API*. We shall use the same *Boston Housing* dataset for this purpose, in order to compare."
   ]
  },
  {
   "cell_type": "markdown",
   "metadata": {
    "id": "XvTOX9bY8-Dy"
   },
   "source": [
    "### Import Necessary Libraries"
   ]
  },
  {
   "cell_type": "code",
   "execution_count": 20,
   "metadata": {
    "id": "dmts3X_6sFBa"
   },
   "outputs": [],
   "source": [
    "from keras.models import Model\n",
    "from keras.layers import Input, Dense, BatchNormalization, Activation\n",
    "from keras.constraints import UnitNorm\n",
    "from keras.regularizers import l2\n",
    "from keras.callbacks import EarlyStopping\n",
    "from keras.datasets import boston_housing\n",
    "import matplotlib.pyplot as plt\n",
    "import numpy as np"
   ]
  },
  {
   "cell_type": "markdown",
   "metadata": {
    "id": "bR0_UFAT9I5N"
   },
   "source": [
    "### Prepare the Dataset"
   ]
  },
  {
   "cell_type": "markdown",
   "metadata": {
    "id": "2n24H8ZgtNEx"
   },
   "source": [
    "We load the dataset and create train and test sets."
   ]
  },
  {
   "cell_type": "code",
   "execution_count": 21,
   "metadata": {
    "id": "fEzuQeAe3U5-"
   },
   "outputs": [],
   "source": [
    "(xtrain, ytrain), (xtest, ytest)=boston_housing.load_data()"
   ]
  },
  {
   "cell_type": "markdown",
   "metadata": {
    "id": "vqTtFjTM9OR7"
   },
   "source": [
    "### Create a Simple Model"
   ]
  },
  {
   "cell_type": "markdown",
   "metadata": {
    "id": "AEmsJZAmtdpD"
   },
   "source": [
    "Now we create the model by using the Keras functional API. Here each layer is passed as a parameter to the next, so that when the model is finally created, it can trace backwards through the layers."
   ]
  },
  {
   "cell_type": "code",
   "execution_count": 22,
   "metadata": {
    "id": "yjjskfQTtf9Z"
   },
   "outputs": [],
   "source": [
    "def createModel(input_shape):\n",
    "  # input layer\n",
    "  input=Input(shape=(input_shape,), name='input')\n",
    "\n",
    "  # hidden layers\n",
    "  h1=Dense(14, activation='relu', name='h1')(input)\n",
    "  h2=Dense(6, activation='relu', name='h2')(h1)\n",
    "\n",
    "  # output layer\n",
    "  op=Dense(1, activation='linear', name='op')(h2)\n",
    "\n",
    "  # create the model\n",
    "  model=Model(inputs=input, outputs=op)\n",
    "  return model"
   ]
  },
  {
   "cell_type": "markdown",
   "metadata": {
    "id": "cCIi7Km_9psu"
   },
   "source": [
    "### Add Regularisation"
   ]
  },
  {
   "cell_type": "markdown",
   "metadata": {
    "id": "Qh51t_SvvLX9"
   },
   "source": [
    "Next we add *regularisation*. *Regularisation* is a means of controlling the complexity of a model without changing its structure. There are different types of regularisation, such as *L1 and L2 regularisation*. Learn more about L1 and L2 regularisation [here](https://medium.com/analytics-vidhya/regularization-understanding-l1-and-l2-regularization-for-deep-learning-a7b9e4a409bf).\n",
    "\n",
    "*L2 regularization*, also known as *Ridge Regression*, is a technique used to prevent overfitting in machine learning models. It works by adding a penalty term to the loss function, which is proportional to the sum of the squared values of the model parameters (weights). This penalty discourages the model from assigning too much importance to any single feature, leading to a more generalized model."
   ]
  },
  {
   "cell_type": "markdown",
   "metadata": {
    "id": "48Vf3jslyAA8"
   },
   "source": [
    "Let us change the above function `createModel()` to include regularisation. We do this by adding a `kernel_regularizer` parameter to each hidden layer in the model. We set the regulariser parameter to a default value of 0.1, which may be changed based on the model's response."
   ]
  },
  {
   "cell_type": "code",
   "execution_count": 23,
   "metadata": {
    "id": "odhthZSOyv4Q"
   },
   "outputs": [],
   "source": [
    "def createModel2(input_shape, l2_param=0.1):\n",
    "  # input layer\n",
    "  input=Input(shape=(input_shape,), name='input')\n",
    "\n",
    "  # hidden layers\n",
    "  h1=Dense(14, activation='relu', kernel_regularizer=l2(l2_param), name='h1')(input)\n",
    "  h2=Dense(6, activation='relu', kernel_regularizer=l2(l2_param), name='h2')(h1)\n",
    "\n",
    "  # output layer\n",
    "  op=Dense(1, activation='linear', name='op')(h2)\n",
    "\n",
    "  # create the model\n",
    "  model=Model(inputs=input, outputs=op)\n",
    "  return model"
   ]
  },
  {
   "cell_type": "markdown",
   "metadata": {
    "id": "Nhhs4v2V9uNn"
   },
   "source": [
    "### Add Batch Normalisation"
   ]
  },
  {
   "cell_type": "markdown",
   "metadata": {
    "id": "x9C0wxgTzjfU"
   },
   "source": [
    "*Batch normalisation* is a technique used to improve the training of deep neural networks. It helps by normalising the inputs of each layer so that they have a mean of zero and a standard deviation of one. This normalisation is done for each mini-batch of data during training."
   ]
  },
  {
   "cell_type": "markdown",
   "metadata": {
    "id": "vNx-r2NfzxQb"
   },
   "source": [
    "The batch normalisation is added in between 2 hidden layers. Since we are adding the normalisation, there is no need for a bias term within the hidden layers(the normalisation will take care of it). Hence `use_bias` is set to `False` within the hidden layer. After adding normalisation, we add the activation function. Hence we get:"
   ]
  },
  {
   "cell_type": "code",
   "execution_count": 24,
   "metadata": {
    "id": "FoxeukYtz-rG"
   },
   "outputs": [],
   "source": [
    "def createModel3(input_shape, l2_param=0.1):\n",
    "  # input layer\n",
    "  input=Input(shape=(input_shape,), name='input')\n",
    "\n",
    "  # hidden layers\n",
    "  h1=Dense(14, kernel_regularizer=l2(l2_param), use_bias=False, name='h1')(input)\n",
    "\n",
    "  #add batch normalisation\n",
    "  b1=BatchNormalization(name='batchnorm1')(h1)\n",
    "\n",
    "  # add activation function\n",
    "  a1=Activation(\"relu\", name=\"a1\")(b1)\n",
    "\n",
    "  # do the same for the second hidden layer\n",
    "  h2=Dense(6, kernel_regularizer=l2(l2_param), use_bias=False, name='h2')(a1)\n",
    "  b2=BatchNormalization(name='batchnorm2')(h2)\n",
    "  a2=Activation(\"relu\", name=\"a2\")(b2)\n",
    "\n",
    "  # output layer\n",
    "  op=Dense(1, activation='linear', name='op')(h2)\n",
    "\n",
    "  # create the model\n",
    "  model=Model(inputs=input, outputs=op)\n",
    "  return model"
   ]
  },
  {
   "cell_type": "markdown",
   "metadata": {
    "id": "Ub69-3wS9yRh"
   },
   "source": [
    "### Compile the Model"
   ]
  },
  {
   "cell_type": "markdown",
   "metadata": {
    "id": "K7A0Ubem2Uoq"
   },
   "source": [
    "Now let us compile this improved model, using the `adam` optimiser and *mean squared error* to calculate loss.(`mse`)."
   ]
  },
  {
   "cell_type": "code",
   "execution_count": 25,
   "metadata": {
    "id": "jxP7SWx3z6LA"
   },
   "outputs": [],
   "source": [
    "model=createModel3(xtrain.shape[1])\n",
    "model.compile(optimizer='adam', loss='mse')"
   ]
  },
  {
   "cell_type": "markdown",
   "metadata": {
    "id": "nQPXX40d93Ie"
   },
   "source": [
    "### Add Early Stopping"
   ]
  },
  {
   "cell_type": "markdown",
   "metadata": {
    "id": "ACX_xFxG3Cxd"
   },
   "source": [
    "Now, for the final improvement, let us add an *early stopping* callback.\n",
    "\n",
    "In early stopping, the model's performance on the validation dataset is monitored for improvement. If the model does not improve from one epoch to the next, the training is halted. This helps to prevent overfitting of the model, as well as save time and computational resources."
   ]
  },
  {
   "cell_type": "markdown",
   "metadata": {
    "id": "2YXxODtd3-c5"
   },
   "source": [
    "Let us create an early stopping callback which monitors *validation loss*, and has a `patience` parameter of 15. ie, if 15 epochs occur with no improvement in `val_loss`, then training is halted. Once stopping occurs, the weights associated with the best *validation loss* are restored. Hence `restore_best_weights` is set to `True`."
   ]
  },
  {
   "cell_type": "code",
   "execution_count": 26,
   "metadata": {
    "id": "vvj7zJC42yKD"
   },
   "outputs": [],
   "source": [
    "es=EarlyStopping(monitor='val_loss', patience=15, restore_best_weights=True)"
   ]
  },
  {
   "cell_type": "markdown",
   "metadata": {
    "id": "wYk78Uc499f-"
   },
   "source": [
    "### Fit the Model"
   ]
  },
  {
   "cell_type": "markdown",
   "metadata": {
    "id": "BFp6sr235Jjj"
   },
   "source": [
    "Now we fit the model to the dataset, this time including a *validation split* of 0.2."
   ]
  },
  {
   "cell_type": "code",
   "execution_count": 27,
   "metadata": {
    "colab": {
     "base_uri": "https://localhost:8080/"
    },
    "id": "knIc15aW5Tig",
    "outputId": "248438fc-94e8-421b-91f4-045edbc2e041"
   },
   "outputs": [
    {
     "name": "stdout",
     "output_type": "stream",
     "text": [
      "Epoch 1/1000\n",
      "\u001b[1m33/33\u001b[0m \u001b[32m━━━━━━━━━━━━━━━━━━━━\u001b[0m\u001b[37m\u001b[0m \u001b[1m2s\u001b[0m 8ms/step - loss: 573.4536 - val_loss: 258.5605\n",
      "Epoch 2/1000\n",
      "\u001b[1m33/33\u001b[0m \u001b[32m━━━━━━━━━━━━━━━━━━━━\u001b[0m\u001b[37m\u001b[0m \u001b[1m0s\u001b[0m 3ms/step - loss: 534.2944 - val_loss: 381.4660\n",
      "Epoch 3/1000\n",
      "\u001b[1m33/33\u001b[0m \u001b[32m━━━━━━━━━━━━━━━━━━━━\u001b[0m\u001b[37m\u001b[0m \u001b[1m0s\u001b[0m 3ms/step - loss: 500.6956 - val_loss: 449.6939\n",
      "Epoch 4/1000\n",
      "\u001b[1m33/33\u001b[0m \u001b[32m━━━━━━━━━━━━━━━━━━━━\u001b[0m\u001b[37m\u001b[0m \u001b[1m0s\u001b[0m 3ms/step - loss: 417.4062 - val_loss: 476.4087\n",
      "Epoch 5/1000\n",
      "\u001b[1m33/33\u001b[0m \u001b[32m━━━━━━━━━━━━━━━━━━━━\u001b[0m\u001b[37m\u001b[0m \u001b[1m0s\u001b[0m 3ms/step - loss: 390.7704 - val_loss: 467.7509\n",
      "Epoch 6/1000\n",
      "\u001b[1m33/33\u001b[0m \u001b[32m━━━━━━━━━━━━━━━━━━━━\u001b[0m\u001b[37m\u001b[0m \u001b[1m0s\u001b[0m 3ms/step - loss: 361.1611 - val_loss: 431.1419\n",
      "Epoch 7/1000\n",
      "\u001b[1m33/33\u001b[0m \u001b[32m━━━━━━━━━━━━━━━━━━━━\u001b[0m\u001b[37m\u001b[0m \u001b[1m0s\u001b[0m 3ms/step - loss: 295.2069 - val_loss: 374.1847\n",
      "Epoch 8/1000\n",
      "\u001b[1m33/33\u001b[0m \u001b[32m━━━━━━━━━━━━━━━━━━━━\u001b[0m\u001b[37m\u001b[0m \u001b[1m0s\u001b[0m 3ms/step - loss: 192.7801 - val_loss: 314.3839\n",
      "Epoch 9/1000\n",
      "\u001b[1m33/33\u001b[0m \u001b[32m━━━━━━━━━━━━━━━━━━━━\u001b[0m\u001b[37m\u001b[0m \u001b[1m0s\u001b[0m 4ms/step - loss: 177.1406 - val_loss: 254.3159\n",
      "Epoch 10/1000\n",
      "\u001b[1m33/33\u001b[0m \u001b[32m━━━━━━━━━━━━━━━━━━━━\u001b[0m\u001b[37m\u001b[0m \u001b[1m0s\u001b[0m 4ms/step - loss: 123.5702 - val_loss: 195.6550\n",
      "Epoch 11/1000\n",
      "\u001b[1m33/33\u001b[0m \u001b[32m━━━━━━━━━━━━━━━━━━━━\u001b[0m\u001b[37m\u001b[0m \u001b[1m0s\u001b[0m 3ms/step - loss: 83.6580 - val_loss: 149.3342\n",
      "Epoch 12/1000\n",
      "\u001b[1m33/33\u001b[0m \u001b[32m━━━━━━━━━━━━━━━━━━━━\u001b[0m\u001b[37m\u001b[0m \u001b[1m0s\u001b[0m 3ms/step - loss: 87.3097 - val_loss: 108.3631\n",
      "Epoch 13/1000\n",
      "\u001b[1m33/33\u001b[0m \u001b[32m━━━━━━━━━━━━━━━━━━━━\u001b[0m\u001b[37m\u001b[0m \u001b[1m0s\u001b[0m 3ms/step - loss: 68.9754 - val_loss: 77.3177\n",
      "Epoch 14/1000\n",
      "\u001b[1m33/33\u001b[0m \u001b[32m━━━━━━━━━━━━━━━━━━━━\u001b[0m\u001b[37m\u001b[0m \u001b[1m0s\u001b[0m 3ms/step - loss: 57.1840 - val_loss: 86.6290\n",
      "Epoch 15/1000\n",
      "\u001b[1m33/33\u001b[0m \u001b[32m━━━━━━━━━━━━━━━━━━━━\u001b[0m\u001b[37m\u001b[0m \u001b[1m0s\u001b[0m 3ms/step - loss: 65.5322 - val_loss: 70.2173\n",
      "Epoch 16/1000\n",
      "\u001b[1m33/33\u001b[0m \u001b[32m━━━━━━━━━━━━━━━━━━━━\u001b[0m\u001b[37m\u001b[0m \u001b[1m0s\u001b[0m 4ms/step - loss: 60.5871 - val_loss: 73.3301\n",
      "Epoch 17/1000\n",
      "\u001b[1m33/33\u001b[0m \u001b[32m━━━━━━━━━━━━━━━━━━━━\u001b[0m\u001b[37m\u001b[0m \u001b[1m0s\u001b[0m 3ms/step - loss: 50.1760 - val_loss: 75.0263\n",
      "Epoch 18/1000\n",
      "\u001b[1m33/33\u001b[0m \u001b[32m━━━━━━━━━━━━━━━━━━━━\u001b[0m\u001b[37m\u001b[0m \u001b[1m0s\u001b[0m 3ms/step - loss: 41.0913 - val_loss: 68.7087\n",
      "Epoch 19/1000\n",
      "\u001b[1m33/33\u001b[0m \u001b[32m━━━━━━━━━━━━━━━━━━━━\u001b[0m\u001b[37m\u001b[0m \u001b[1m0s\u001b[0m 2ms/step - loss: 53.7603 - val_loss: 63.6087\n",
      "Epoch 20/1000\n",
      "\u001b[1m33/33\u001b[0m \u001b[32m━━━━━━━━━━━━━━━━━━━━\u001b[0m\u001b[37m\u001b[0m \u001b[1m0s\u001b[0m 3ms/step - loss: 44.3813 - val_loss: 60.8327\n",
      "Epoch 21/1000\n",
      "\u001b[1m33/33\u001b[0m \u001b[32m━━━━━━━━━━━━━━━━━━━━\u001b[0m\u001b[37m\u001b[0m \u001b[1m0s\u001b[0m 3ms/step - loss: 46.3774 - val_loss: 64.4260\n",
      "Epoch 22/1000\n",
      "\u001b[1m33/33\u001b[0m \u001b[32m━━━━━━━━━━━━━━━━━━━━\u001b[0m\u001b[37m\u001b[0m \u001b[1m0s\u001b[0m 3ms/step - loss: 41.9613 - val_loss: 59.6226\n",
      "Epoch 23/1000\n",
      "\u001b[1m33/33\u001b[0m \u001b[32m━━━━━━━━━━━━━━━━━━━━\u001b[0m\u001b[37m\u001b[0m \u001b[1m0s\u001b[0m 4ms/step - loss: 44.2699 - val_loss: 65.1805\n",
      "Epoch 24/1000\n",
      "\u001b[1m33/33\u001b[0m \u001b[32m━━━━━━━━━━━━━━━━━━━━\u001b[0m\u001b[37m\u001b[0m \u001b[1m0s\u001b[0m 3ms/step - loss: 40.8410 - val_loss: 47.4774\n",
      "Epoch 25/1000\n",
      "\u001b[1m33/33\u001b[0m \u001b[32m━━━━━━━━━━━━━━━━━━━━\u001b[0m\u001b[37m\u001b[0m \u001b[1m0s\u001b[0m 3ms/step - loss: 38.2484 - val_loss: 46.5699\n",
      "Epoch 26/1000\n",
      "\u001b[1m33/33\u001b[0m \u001b[32m━━━━━━━━━━━━━━━━━━━━\u001b[0m\u001b[37m\u001b[0m \u001b[1m0s\u001b[0m 3ms/step - loss: 46.5256 - val_loss: 66.3029\n",
      "Epoch 27/1000\n",
      "\u001b[1m33/33\u001b[0m \u001b[32m━━━━━━━━━━━━━━━━━━━━\u001b[0m\u001b[37m\u001b[0m \u001b[1m0s\u001b[0m 3ms/step - loss: 51.1294 - val_loss: 43.7169\n",
      "Epoch 28/1000\n",
      "\u001b[1m33/33\u001b[0m \u001b[32m━━━━━━━━━━━━━━━━━━━━\u001b[0m\u001b[37m\u001b[0m \u001b[1m0s\u001b[0m 3ms/step - loss: 39.7828 - val_loss: 42.9226\n",
      "Epoch 29/1000\n",
      "\u001b[1m33/33\u001b[0m \u001b[32m━━━━━━━━━━━━━━━━━━━━\u001b[0m\u001b[37m\u001b[0m \u001b[1m0s\u001b[0m 4ms/step - loss: 42.3514 - val_loss: 30.9178\n",
      "Epoch 30/1000\n",
      "\u001b[1m33/33\u001b[0m \u001b[32m━━━━━━━━━━━━━━━━━━━━\u001b[0m\u001b[37m\u001b[0m \u001b[1m0s\u001b[0m 3ms/step - loss: 40.8571 - val_loss: 42.8931\n",
      "Epoch 31/1000\n",
      "\u001b[1m33/33\u001b[0m \u001b[32m━━━━━━━━━━━━━━━━━━━━\u001b[0m\u001b[37m\u001b[0m \u001b[1m0s\u001b[0m 3ms/step - loss: 37.9055 - val_loss: 37.9112\n",
      "Epoch 32/1000\n",
      "\u001b[1m33/33\u001b[0m \u001b[32m━━━━━━━━━━━━━━━━━━━━\u001b[0m\u001b[37m\u001b[0m \u001b[1m0s\u001b[0m 3ms/step - loss: 35.5602 - val_loss: 32.1821\n",
      "Epoch 33/1000\n",
      "\u001b[1m33/33\u001b[0m \u001b[32m━━━━━━━━━━━━━━━━━━━━\u001b[0m\u001b[37m\u001b[0m \u001b[1m0s\u001b[0m 3ms/step - loss: 43.1050 - val_loss: 33.1353\n",
      "Epoch 34/1000\n",
      "\u001b[1m33/33\u001b[0m \u001b[32m━━━━━━━━━━━━━━━━━━━━\u001b[0m\u001b[37m\u001b[0m \u001b[1m0s\u001b[0m 3ms/step - loss: 43.3837 - val_loss: 45.0209\n",
      "Epoch 35/1000\n",
      "\u001b[1m33/33\u001b[0m \u001b[32m━━━━━━━━━━━━━━━━━━━━\u001b[0m\u001b[37m\u001b[0m \u001b[1m0s\u001b[0m 3ms/step - loss: 36.6506 - val_loss: 32.0007\n",
      "Epoch 36/1000\n",
      "\u001b[1m33/33\u001b[0m \u001b[32m━━━━━━━━━━━━━━━━━━━━\u001b[0m\u001b[37m\u001b[0m \u001b[1m0s\u001b[0m 4ms/step - loss: 38.4189 - val_loss: 43.6401\n",
      "Epoch 37/1000\n",
      "\u001b[1m33/33\u001b[0m \u001b[32m━━━━━━━━━━━━━━━━━━━━\u001b[0m\u001b[37m\u001b[0m \u001b[1m0s\u001b[0m 3ms/step - loss: 46.2560 - val_loss: 44.6055\n",
      "Epoch 38/1000\n",
      "\u001b[1m33/33\u001b[0m \u001b[32m━━━━━━━━━━━━━━━━━━━━\u001b[0m\u001b[37m\u001b[0m \u001b[1m0s\u001b[0m 3ms/step - loss: 35.0652 - val_loss: 34.1004\n",
      "Epoch 39/1000\n",
      "\u001b[1m33/33\u001b[0m \u001b[32m━━━━━━━━━━━━━━━━━━━━\u001b[0m\u001b[37m\u001b[0m \u001b[1m0s\u001b[0m 3ms/step - loss: 33.8090 - val_loss: 25.6674\n",
      "Epoch 40/1000\n",
      "\u001b[1m33/33\u001b[0m \u001b[32m━━━━━━━━━━━━━━━━━━━━\u001b[0m\u001b[37m\u001b[0m \u001b[1m0s\u001b[0m 5ms/step - loss: 33.5161 - val_loss: 31.3376\n",
      "Epoch 41/1000\n",
      "\u001b[1m33/33\u001b[0m \u001b[32m━━━━━━━━━━━━━━━━━━━━\u001b[0m\u001b[37m\u001b[0m \u001b[1m0s\u001b[0m 5ms/step - loss: 37.8569 - val_loss: 28.9928\n",
      "Epoch 42/1000\n",
      "\u001b[1m33/33\u001b[0m \u001b[32m━━━━━━━━━━━━━━━━━━━━\u001b[0m\u001b[37m\u001b[0m \u001b[1m0s\u001b[0m 5ms/step - loss: 38.3223 - val_loss: 25.4977\n",
      "Epoch 43/1000\n",
      "\u001b[1m33/33\u001b[0m \u001b[32m━━━━━━━━━━━━━━━━━━━━\u001b[0m\u001b[37m\u001b[0m \u001b[1m0s\u001b[0m 5ms/step - loss: 31.9878 - val_loss: 26.0844\n",
      "Epoch 44/1000\n",
      "\u001b[1m33/33\u001b[0m \u001b[32m━━━━━━━━━━━━━━━━━━━━\u001b[0m\u001b[37m\u001b[0m \u001b[1m0s\u001b[0m 6ms/step - loss: 39.2149 - val_loss: 29.8039\n",
      "Epoch 45/1000\n",
      "\u001b[1m33/33\u001b[0m \u001b[32m━━━━━━━━━━━━━━━━━━━━\u001b[0m\u001b[37m\u001b[0m \u001b[1m0s\u001b[0m 5ms/step - loss: 31.7187 - val_loss: 25.2651\n",
      "Epoch 46/1000\n",
      "\u001b[1m33/33\u001b[0m \u001b[32m━━━━━━━━━━━━━━━━━━━━\u001b[0m\u001b[37m\u001b[0m \u001b[1m0s\u001b[0m 5ms/step - loss: 27.8014 - val_loss: 26.2069\n",
      "Epoch 47/1000\n",
      "\u001b[1m33/33\u001b[0m \u001b[32m━━━━━━━━━━━━━━━━━━━━\u001b[0m\u001b[37m\u001b[0m \u001b[1m0s\u001b[0m 5ms/step - loss: 37.8410 - val_loss: 24.7649\n",
      "Epoch 48/1000\n",
      "\u001b[1m33/33\u001b[0m \u001b[32m━━━━━━━━━━━━━━━━━━━━\u001b[0m\u001b[37m\u001b[0m \u001b[1m0s\u001b[0m 6ms/step - loss: 36.1068 - val_loss: 25.7203\n",
      "Epoch 49/1000\n",
      "\u001b[1m33/33\u001b[0m \u001b[32m━━━━━━━━━━━━━━━━━━━━\u001b[0m\u001b[37m\u001b[0m \u001b[1m0s\u001b[0m 5ms/step - loss: 38.2888 - val_loss: 33.2963\n",
      "Epoch 50/1000\n",
      "\u001b[1m33/33\u001b[0m \u001b[32m━━━━━━━━━━━━━━━━━━━━\u001b[0m\u001b[37m\u001b[0m \u001b[1m0s\u001b[0m 3ms/step - loss: 33.5313 - val_loss: 29.4625\n",
      "Epoch 51/1000\n",
      "\u001b[1m33/33\u001b[0m \u001b[32m━━━━━━━━━━━━━━━━━━━━\u001b[0m\u001b[37m\u001b[0m \u001b[1m0s\u001b[0m 3ms/step - loss: 38.6373 - val_loss: 27.7164\n",
      "Epoch 52/1000\n",
      "\u001b[1m33/33\u001b[0m \u001b[32m━━━━━━━━━━━━━━━━━━━━\u001b[0m\u001b[37m\u001b[0m \u001b[1m0s\u001b[0m 4ms/step - loss: 40.8529 - val_loss: 26.9240\n",
      "Epoch 53/1000\n",
      "\u001b[1m33/33\u001b[0m \u001b[32m━━━━━━━━━━━━━━━━━━━━\u001b[0m\u001b[37m\u001b[0m \u001b[1m0s\u001b[0m 3ms/step - loss: 37.6352 - val_loss: 25.7219\n",
      "Epoch 54/1000\n",
      "\u001b[1m33/33\u001b[0m \u001b[32m━━━━━━━━━━━━━━━━━━━━\u001b[0m\u001b[37m\u001b[0m \u001b[1m0s\u001b[0m 3ms/step - loss: 35.7563 - val_loss: 39.9360\n",
      "Epoch 55/1000\n",
      "\u001b[1m33/33\u001b[0m \u001b[32m━━━━━━━━━━━━━━━━━━━━\u001b[0m\u001b[37m\u001b[0m \u001b[1m0s\u001b[0m 3ms/step - loss: 38.6591 - val_loss: 26.7718\n",
      "Epoch 56/1000\n",
      "\u001b[1m33/33\u001b[0m \u001b[32m━━━━━━━━━━━━━━━━━━━━\u001b[0m\u001b[37m\u001b[0m \u001b[1m0s\u001b[0m 3ms/step - loss: 32.1355 - val_loss: 25.9808\n",
      "Epoch 57/1000\n",
      "\u001b[1m33/33\u001b[0m \u001b[32m━━━━━━━━━━━━━━━━━━━━\u001b[0m\u001b[37m\u001b[0m \u001b[1m0s\u001b[0m 3ms/step - loss: 27.0968 - val_loss: 24.7974\n",
      "Epoch 58/1000\n",
      "\u001b[1m33/33\u001b[0m \u001b[32m━━━━━━━━━━━━━━━━━━━━\u001b[0m\u001b[37m\u001b[0m \u001b[1m0s\u001b[0m 4ms/step - loss: 31.4881 - val_loss: 25.1715\n",
      "Epoch 59/1000\n",
      "\u001b[1m33/33\u001b[0m \u001b[32m━━━━━━━━━━━━━━━━━━━━\u001b[0m\u001b[37m\u001b[0m \u001b[1m0s\u001b[0m 3ms/step - loss: 32.1209 - val_loss: 25.3259\n",
      "Epoch 60/1000\n",
      "\u001b[1m33/33\u001b[0m \u001b[32m━━━━━━━━━━━━━━━━━━━━\u001b[0m\u001b[37m\u001b[0m \u001b[1m0s\u001b[0m 3ms/step - loss: 35.6476 - val_loss: 25.5826\n",
      "Epoch 61/1000\n",
      "\u001b[1m33/33\u001b[0m \u001b[32m━━━━━━━━━━━━━━━━━━━━\u001b[0m\u001b[37m\u001b[0m \u001b[1m0s\u001b[0m 3ms/step - loss: 30.2031 - val_loss: 25.1265\n",
      "Epoch 62/1000\n",
      "\u001b[1m33/33\u001b[0m \u001b[32m━━━━━━━━━━━━━━━━━━━━\u001b[0m\u001b[37m\u001b[0m \u001b[1m0s\u001b[0m 3ms/step - loss: 35.3693 - val_loss: 25.2195\n"
     ]
    }
   ],
   "source": [
    "history=model.fit(xtrain, ytrain, epochs=1000, batch_size=10, shuffle=True, validation_split=0.2, callbacks=[es])"
   ]
  },
  {
   "cell_type": "markdown",
   "metadata": {
    "id": "XM8tDday52jb"
   },
   "source": [
    "Notice that though we specified the model to run 1000 epochs, its stops at epoch 62. This is the effect of the *early stopping* callback."
   ]
  },
  {
   "cell_type": "markdown",
   "metadata": {
    "id": "gEpKaq6t6nc-"
   },
   "source": [
    "Plot the training vs validation *mean squared error*."
   ]
  },
  {
   "cell_type": "code",
   "execution_count": 28,
   "metadata": {
    "colab": {
     "base_uri": "https://localhost:8080/",
     "height": 449
    },
    "id": "pG_cx5dN6tdM",
    "outputId": "0b7d3811-5cbd-42df-f7e4-b64f349b9ab6"
   },
   "outputs": [
    {
     "data": {
      "image/png": "[encoded data removed]",
      "text/plain": [
       "<Figure size 640x480 with 1 Axes>"
      ]
     },
     "metadata": {},
     "output_type": "display_data"
    }
   ],
   "source": [
    "plt.plot(history.history['loss'])\n",
    "plt.plot(history.history['val_loss'])\n",
    "plt.ylabel('loss')\n",
    "plt.xlabel('epoch')\n",
    "plt.gca().set_xlim(0, len(history.history['loss']))\n",
    "plt.gca().set_ylim(0, 150)\n",
    "plt.legend(['train', 'val'], loc='upper left')\n",
    "plt.show()"
   ]
  },
  {
   "cell_type": "markdown",
   "metadata": {
    "id": "oPqXSR0J-BYT"
   },
   "source": [
    "### Test the Model"
   ]
  },
  {
   "cell_type": "markdown",
   "metadata": {
    "id": "kzho70he8QCe"
   },
   "source": [
    "Now let us test the model."
   ]
  },
  {
   "cell_type": "code",
   "execution_count": 29,
   "metadata": {
    "colab": {
     "base_uri": "https://localhost:8080/"
    },
    "id": "4e2d1-ZT8IBM",
    "outputId": "8d8c50d5-f61b-45ca-f345-686cc6b344f4"
   },
   "outputs": [
    {
     "name": "stdout",
     "output_type": "stream",
     "text": [
      "\u001b[1m4/4\u001b[0m \u001b[32m━━━━━━━━━━━━━━━━━━━━\u001b[0m\u001b[37m\u001b[0m \u001b[1m0s\u001b[0m 23ms/step\n",
      "MSE:  128.21431302627477\n"
     ]
    }
   ],
   "source": [
    "ypred=model.predict(xtest)\n",
    "mse=np.mean((ypred-ytest)**2)\n",
    "print(\"MSE: \", mse)"
   ]
  },
  {
   "cell_type": "markdown",
   "metadata": {
    "id": "xvp-g7dL8UPr"
   },
   "source": [
    "Notice that the model performance has improved from the last, simple model. the mean squared error has dropped from 152 to 128. With more optimisation and improvement of course, this may be further reduced."
   ]
  },
  {
   "cell_type": "markdown",
   "metadata": {
    "id": "FlBc3O9Q-J8l"
   },
   "source": [
    "### Sources\n",
    "\n",
    "*   Infosys SpringBoard\n",
    "*   Medium.com\n",
    "*   Bing Copilot"
   ]
  }
 ],
 "metadata": {
  "colab": {
   "provenance": []
  },
  "kernelspec": {
   "display_name": "Python 3",
   "name": "python3"
  },
  "language_info": {
   "name": "python"
  }
 },
 "nbformat": 4,
 "nbformat_minor": 0
}
