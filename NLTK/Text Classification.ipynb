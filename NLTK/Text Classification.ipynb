{
 "cells": [
  {
   "cell_type": "markdown",
   "metadata": {},
   "source": [
    "# Text Classification"
   ]
  },
  {
   "cell_type": "code",
   "execution_count": 2,
   "metadata": {},
   "outputs": [
    {
     "name": "stderr",
     "output_type": "stream",
     "text": [
      "[nltk_data] Downloading package movie_reviews to\n",
      "[nltk_data]     C:\\Users\\nagan\\AppData\\Roaming\\nltk_data...\n",
      "[nltk_data]   Unzipping corpora\\movie_reviews.zip.\n"
     ]
    }
   ],
   "source": [
    "import nltk\n",
    "import random\n",
    "nltk.download('movie_reviews')\n",
    "from nltk.corpus import movie_reviews"
   ]
  },
  {
   "cell_type": "code",
   "execution_count": 3,
   "metadata": {},
   "outputs": [],
   "source": [
    "documents = [(list(movie_reviews.words(fileid)), category)\n",
    "             for category in movie_reviews.categories()\n",
    "                for fileid in movie_reviews.fileids(category)]"
   ]
  },
  {
   "cell_type": "code",
   "execution_count": 5,
   "metadata": {},
   "outputs": [
    {
     "name": "stdout",
     "output_type": "stream",
     "text": [
      "(['`', 'bats', \"'\", 'is', 'an', 'insulting', 'slap', 'across', 'the', 'face', 'for', 'any', 'dedicated', 'horror', 'movie', 'fan', '.', 'to', 'pull', 'something', 'like', 'this', 'off', ',', 'you', 'need', 'to', 'have', 'a', 'sense', 'of', 'wit', 'and', 'style', ',', 'with', 'a', 'heavy', 'dosage', 'of', 'humor', 'to', 'back', 'up', 'the', 'process', 'if', 'the', 'fright', 'factor', 'ever', 'declines', '.', 'something', 'like', 'the', 'underground', 'worm', 'thriller', '`', 'tremors', \"'\", 'had', 'just', 'the', 'perfect', 'mixture', 'of', 'these', 'elements', ',', 'and', 'in', 'return', ',', 'the', 'film', 'was', 'tremendous', 'fun', '.', 'with', 'the', 'notable', 'exception', 'of', 'a', 'wisecracking', 'supporting', 'player', ',', '`', 'bats', \"'\", 'mainly', 'plays', 'it', \"'\", 's', 'premise', 'for', 'straight', '-', 'arrow', 'horror', '.', 'judging', 'by', 'the', 'ridiculous', 'premise', ',', 'this', 'was', 'not', 'exactly', 'a', 'wise', 'move', '.', 'the', 'movie', 'attempts', 'to', 'capture', 'the', 'essence', 'of', 'alfred', 'hitchcock', \"'\", 's', '`', 'the', 'birds', \"'\", ',', 'but', 'fails', 'miserably', '.', 'done', 'right', ',', 'it', 'could', 'have', 'been', 'adequately', 'amusing', 'halloween', 'cinema', '.', 'unfortunately', ',', '`', 'bats', \"'\", 'is', 'a', 'prime', 'example', 'of', 'a', 'formula', 'movie', 'done', 'terribly', ',', 'terribly', 'wrong', '.', 'the', 'only', 'thing', 'amusing', 'about', 'this', 'festering', 'pile', 'of', 'guano', 'is', 'in', 'how', 'intelligible', 'the', 'filmmakers', 'anticipate', 'their', 'core', 'audience', 'to', 'be', '.', 'i', 'will', 'recite', 'the', 'following', 'paragraph', 'in', 'a', 'manner', 'that', 'will', 'reach', 'the', 'audience', 'of', 'individuals', 'to', 'whom', '`', 'bats', \"'\", 'is', 'aimed', 'toward', '.', 'those', 'guys', 'in', 'hollywood', 'have', 'made', 'a', 'movie', 'about', 'bats', '.', 'these', 'bats', 'are', 'not', 'very', 'nice', ',', 'because', 'they', 'eat', 'a', 'lot', 'of', 'people', '.', 'boy', ',', 'are', 'these', 'bats', 'ugly', '.', 'they', 'are', 'infected', 'with', 'this', 'bogus', 'virus', 'that', 'makes', 'them', 'super', '-', 'duper', 'smart', '.', 'they', \"'\", 've', 'got', 'big', 'claws', 'and', 'red', 'eyes', 'and', 'they', 'are', 'not', 'very', 'friendly', 'at', 'all', '.', 'a', 'whole', 'bunch', 'of', 'people', 'in', 'texas', 'get', 'killed', ',', 'so', 'a', 'sheriff', 'guy', 'and', 'a', 'scientist', 'lady', 'are', 'brought', 'in', 'to', 'kill', 'the', 'bats', '.', 'they', 'have', 'big', 'guns', 'and', 'other', 'cool', 'things', 'to', 'fight', 'them', 'with', ',', 'but', 'the', 'bats', 'are', 'pretty', 'smart', ',', 'so', 'it', \"'\", 's', 'sorta', 'hard', 'to', 'do', '.', 'the', 'bats', 'swoop', 'down', 'and', 'they', 'shoot', 'at', 'them', 'to', 'make', 'they', 'go', 'away', 'for', 'good', '.', 'but', 'no', ',', '`', 'bats', \"'\", 'is', 'probably', 'too', 'violent', 'for', 'pre', '-', 'schoolers', '.', 'the', 'film', ',', 'directed', 'by', 'louis', 'morneau', ',', 'should', 'have', 'ventured', 'straight', 'into', 'video', 'stores', '.', 'on', 'the', 'small', 'screen', ',', 'perhaps', 'more', 'fun', 'could', 'have', 'been', 'derived', 'with', 'lower', 'expectations', '.', 'but', 'sitting', 'through', 'this', 'crapper', 'on', 'the', 'big', 'screen', 'is', 'almost', 'awkward', ';', 'although', 'at', 'a', 'few', 'moments', 'it', 'becomes', 'a', 'guilty', 'pleasure', ',', 'the', 'film', 'is', 'poorly', 'written', ',', 'poorly', 'acted', 'and', 'executed', 'with', 'glaring', 'ineptitude', '.', 'even', 'the', 'bats', 'themselves', 'are', 'cheesy', ',', 'and', 'the', 'attack', 'sequences', 'too', 'rushed', 'and', 'jittery', 'to', 'be', 'properly', 'enjoyed', '.', 'the', 'sheriff', 'in', 'the', 'story', 'is', 'emmett', 'kimsey', '(', 'lou', 'diamond', 'phillips', ')', ',', 'who', 'embodies', 'every', 'pathetic', 'stereotype', 'a', 'small', '-', 'town', 'authority', 'figure', 'usually', 'portrays', '(', 'he', 'chomps', 'on', 'a', 'cigar', ',', 'struts', 'contentedly', 'in', 'his', 'boots', ',', 'etc', '.', '.', '.', ')', '.', 'the', 'scientist', 'is', 'dr', '.', 'sheila', 'casper', '(', 'dina', 'meyer', ')', ',', 'who', 'specializes', 'in', 'flying', 'mammals', 'and', 'is', 'classified', 'as', '`', 'the', 'best', 'in', 'her', 'field', \"'\", '.', 'meyer', 'uses', 'a', 'lot', 'of', 'technical', 'terms', 'designed', 'to', 'make', 'the', 'movie', 'seem', 'more', 'intellectually', 'capable', ',', 'but', 'everything', 'about', 'dr', '.', 'casper', 'is', 'recycled', 'beyond', 'recognition', '.', 'her', 'memories', 'of', 'how', 'she', 'became', 'hooked', 'on', 'the', 'topic', 'of', 'bats', 'sounds', 'suspiciously', 'like', 'oceanographic', 'student', 'matt', 'hooper', \"'\", 's', 'tale', 'of', 'how', 'he', 'became', 'infatuated', 'with', 'sharks', 'in', '`', 'jaws', \"'\", '.', 'everything', 'revolving', 'around', '`', 'bats', \"'\", 'is', 'tired', 'drivel', ',', 'which', 'desperately', 'requires', 'some', 'directorial', 'style', 'or', 'acting', 'capabilities', 'to', 'spruce', 'it', 'up', '.', 'the', 'supporting', 'cast', 'could', 'have', 'been', 'constructed', 'out', 'of', 'straw', ',', 'with', 'voices', 'dubbed', 'in', 'later', '.', 'in', 'fact', ',', 'that', 'may', 'have', 'worked', 'out', 'better', 'in', 'the', 'end', '.', 'take', 'one', 'glance', 'at', 'casper', \"'\", 's', 'bat', '-', 'loathing', 'sidekick', 'jimmy', '(', 'leon', ')', ',', 'and', 'you', \"'\", 'll', 'have', 'immediate', 'deja', 'vu', '-', 'he', \"'\", 's', 'the', 'exact', 'same', 'humorous', 'buddy', 'caricature', 'from', 'every', 'other', 'movie', ',', 'constructed', 'specifically', 'for', 'timed', 'comic', 'relief', '.', 'unfortunately', ',', 'none', 'of', 'his', 'comic', 'interludes', 'are', 'funny', '.', 'in', 'the', 'role', 'of', 'deranged', 'mad', 'scientist', 'dr', '.', 'mccabe', ',', 'the', 'reliable', 'bob', 'gunton', 'gets', 'cornered', 'with', 'the', 'most', 'hideously', 'idiotic', 'character', 'in', 'the', 'bunch', '.', 'mccabe', '`', 'accidentally', \"'\", 'released', 'two', 'experimental', 'test', 'subjects', ',', 'and', 'the', 'virus', 'spread', 'to', 'other', 'bats', '.', 'the', 'entire', 'town', 'of', 'gallup', ',', 'texas', 'is', 'under', 'attack', 'from', 'an', 'enormous', 'swarm', 'of', 'the', 'creatures', ',', 'but', 'gunton', 'appears', 'to', 'be', 'inconspicuously', 'contemplating', 'something', 'else', '.', 'something', 'like', ':', '`', 'when', 'is', 'the', 'damn', 'movie', 'going', 'to', 'be', 'over', '?', '?', 'i', 'just', 'want', 'my', 'money', '.', \"'\", 'the', 'bats', 'are', 'ugly', ',', 'i', 'must', 'say', '.', 'there', \"'\", 's', 'the', 'occasional', 'moment', 'where', 'they', 'look', 'moderately', 'convincing', ',', 'but', 'mainly', ',', 'the', 'swarm', 'is', 'represented', 'in', 'cheesy', 'digital', 'imagery', '.', 'only', 'bits', 'of', 'the', 'bloody', 'action', 'even', 'hint', 'at', 'the', 'campy', 'fun', 'the', 'film', 'could', 'have', 'been', ',', 'but', 'by', 'the', 'absurdly', 'stupid', 'climax', ',', 'it', \"'\", 's', 'way', 'too', 'late', 'in', 'the', 'game', 'for', 'a', 'decent', 'recovery', '.', 'characters', 'experiment', 'in', 'slaughtering', 'the', 'bats', 'with', 'gunfire', '.', 'let', \"'\", 's', 'explore', 'the', 'logic', 'there', ':', 'is', 'this', 'really', 'a', 'very', 'efficient', 'way', 'to', 'decrease', 'the', 'bat', 'population', '?', '?', 'you', 'could', 'empty', 'an', 'entire', 'clip', 'at', 'the', 'flying', 'winged', 'serpents', 'and', 'not', 'even', 'wound', 'one', ',', 'and', 'after', 'that', 'there', 'are', 'only', '18', ',', '000', 'more', 'of', 'them', '.', 'this', 'kind', 'of', 'behavior', 'represents', 'the', 'regular', 'level', 'of', 'intelligence', 'behind', '`', 'bats', \"'\", '.'], 'neg')\n"
     ]
    }
   ],
   "source": [
    "random.shuffle(documents)\n",
    "print(documents[1])"
   ]
  },
  {
   "cell_type": "code",
   "execution_count": 6,
   "metadata": {},
   "outputs": [],
   "source": [
    "all_words = []\n",
    "for w in movie_reviews.words():\n",
    "    all_words.append(w.lower())"
   ]
  },
  {
   "cell_type": "code",
   "execution_count": 7,
   "metadata": {},
   "outputs": [
    {
     "name": "stdout",
     "output_type": "stream",
     "text": [
      "[(',', 77717), ('the', 76529), ('.', 65876), ('a', 38106), ('and', 35576), ('of', 34123), ('to', 31937), (\"'\", 30585), ('is', 25195), ('in', 21822), ('s', 18513), ('\"', 17612), ('it', 16107), ('that', 15924), ('-', 15595)]\n"
     ]
    }
   ],
   "source": [
    "all_words = nltk.FreqDist(all_words)\n",
    "print(all_words.most_common(15))"
   ]
  },
  {
   "cell_type": "markdown",
   "metadata": {},
   "source": [
    "### Sources"
   ]
  },
  {
   "cell_type": "markdown",
   "metadata": {},
   "source": [
    "+ [sentdex-Text Classification](https://youtu.be/zi16nl82AMA)"
   ]
  }
 ],
 "metadata": {
  "kernelspec": {
   "display_name": "Python 3",
   "language": "python",
   "name": "python3"
  },
  "language_info": {
   "codemirror_mode": {
    "name": "ipython",
    "version": 3
   },
   "file_extension": ".py",
   "mimetype": "text/x-python",
   "name": "python",
   "nbconvert_exporter": "python",
   "pygments_lexer": "ipython3",
   "version": "3.12.2"
  }
 },
 "nbformat": 4,
 "nbformat_minor": 2
}
