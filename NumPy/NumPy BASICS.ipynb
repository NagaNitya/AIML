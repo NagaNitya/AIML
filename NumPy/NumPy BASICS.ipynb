{
 "cells": [
  {
   "cell_type": "markdown",
   "metadata": {},
   "source": [
    "# Learning NumPy"
   ]
  },
  {
   "cell_type": "markdown",
   "metadata": {},
   "source": [
    "*NumPy* is a popular Python library that supports large, multi dimensional arrays. *NumPy* stands for 'Numerical Python', and it is commonly used when working with large datasets. \n",
    "\n",
    "while *NumPy* arrays are similar to standard lists in python, these arrays are much faster when dealing with data of a larger scale. (almost 100x faster)."
   ]
  },
  {
   "cell_type": "code",
   "execution_count": 1,
   "metadata": {},
   "outputs": [],
   "source": [
    "import numpy as np"
   ]
  },
  {
   "cell_type": "markdown",
   "metadata": {},
   "source": [
    "### Introduction"
   ]
  },
  {
   "cell_type": "markdown",
   "metadata": {},
   "source": [
    "A *NumPy* array may be created using the `np.array()` method."
   ]
  },
  {
   "cell_type": "code",
   "execution_count": 2,
   "metadata": {},
   "outputs": [
    {
     "name": "stdout",
     "output_type": "stream",
     "text": [
      "[157 270 210 269 137 205 225]\n",
      "(7,)\n"
     ]
    }
   ],
   "source": [
    "# an array depicting number of notifications received each day for a week.\n",
    "notifications = np.array([157, 270, 210, 269, 137, 205, 225])\n",
    "\n",
    "print(notifications)\n",
    "print(notifications.shape) # the shape property may be used to find the shape of the array, ie. the number of rows and columns."
   ]
  },
  {
   "cell_type": "markdown",
   "metadata": {},
   "source": [
    "*NumPy* arrays may be sliced just like lists."
   ]
  },
  {
   "cell_type": "code",
   "execution_count": 3,
   "metadata": {},
   "outputs": [
    {
     "name": "stdout",
     "output_type": "stream",
     "text": [
      "[157 270]\n",
      "[137 205 225]\n",
      "[157 270 210]\n",
      "205\n"
     ]
    }
   ],
   "source": [
    "print(notifications[0:2])\n",
    "print(notifications[4:])\n",
    "print(notifications[:3])\n",
    "print(notifications[-2])"
   ]
  },
  {
   "cell_type": "markdown",
   "metadata": {},
   "source": [
    "### Multi-Dimensional Arrays"
   ]
  },
  {
   "cell_type": "markdown",
   "metadata": {},
   "source": [
    "One can also create multidimensional arrays in *NumPy*. \n",
    "\n",
    "For example, consider a use case of 3 egg cartons. A machine has assessed the eggs in each carton and predicted how far the eggs are rotten. (1-fresh, 0-completely rotten)."
   ]
  },
  {
   "cell_type": "code",
   "execution_count": 4,
   "metadata": {},
   "outputs": [
    {
     "name": "stdout",
     "output_type": "stream",
     "text": [
      "[[0.89 0.9  0.83 0.89 0.97 0.98]\n",
      " [0.95 0.95 0.89 0.95 0.23 0.99]]\n"
     ]
    }
   ],
   "source": [
    "egg_carton1 = np.array([\n",
    "  [0.89, 0.90, 0.83, 0.89, 0.97, 0.98], \n",
    "  [0.95, 0.95, 0.89, 0.95, 0.23, 0.99]\n",
    "])\n",
    "\n",
    "egg_carton2 = np.array([\n",
    "  [0.89, 0.95, 0.84, 0.92, 0.94, 0.93], \n",
    "  [0.93, 0.95, 0.02, 0.03, 0.23, 0.99]\n",
    "])\n",
    "\n",
    "egg_carton3 = np.array([\n",
    "  [0.83, 0.95, 0.89, 0.54, 0.37, 0.92], \n",
    "  [0.98, 0.99, 0.19, 0.23, 0.89, 0.91]\n",
    "])\n",
    "\n",
    "print(egg_carton1)"
   ]
  },
  {
   "cell_type": "markdown",
   "metadata": {},
   "source": [
    "Now we can check which carton is the safest buy, by calculating the average freshness of each carton. This is done using `np.average()` method."
   ]
  },
  {
   "cell_type": "code",
   "execution_count": 5,
   "metadata": {},
   "outputs": [
    {
     "name": "stdout",
     "output_type": "stream",
     "text": [
      "0.8683333333333333\n",
      "0.7183333333333333\n",
      "0.7241666666666666\n"
     ]
    }
   ],
   "source": [
    "carton1=np.average(egg_carton1)\n",
    "carton2=np.average(egg_carton2)\n",
    "carton3=np.average(egg_carton3)\n",
    "\n",
    "print(carton1)\n",
    "print(carton2)\n",
    "print(carton3)"
   ]
  },
  {
   "cell_type": "markdown",
   "metadata": {},
   "source": [
    "From the above output, we can see that carton 1 contains the most number of fresh eggs."
   ]
  },
  {
   "cell_type": "markdown",
   "metadata": {},
   "source": [
    "### Operators and Functions"
   ]
  },
  {
   "cell_type": "markdown",
   "metadata": {},
   "source": [
    "There are various different operators in *NumPy*. the basic operators are:\n",
    "+ addition \n",
    "+ subtraction\n",
    "+ multiplication\n",
    "+ division\n",
    "+ modulo\n",
    "\n",
    "these operators can be applied to all the elements of the *NumPy* array at once."
   ]
  },
  {
   "cell_type": "code",
   "execution_count": 6,
   "metadata": {},
   "outputs": [
    {
     "name": "stdout",
     "output_type": "stream",
     "text": [
      "[ 7  8  9 10 11 12]\n",
      "[ 3  6  9 12 15 18]\n"
     ]
    }
   ],
   "source": [
    "arr=np.array([1, 2, 3, 4, 5, 6])\n",
    "\n",
    "print(arr+6)\n",
    "print(arr*3)"
   ]
  },
  {
   "cell_type": "markdown",
   "metadata": {},
   "source": [
    "*NumPy* also contains many math functions. some of the basic ones are:\n",
    "+ np.min()\n",
    "+ np.max()\n",
    "+ np.sum()\n",
    "+ np.average() or np.mean()\n",
    "\n",
    "By default, these functions apply to the entire array. But, one may use the *axis* parameter to apply the functions row or column wise.\n",
    "+ *axis=0* means each column produces a separate result\n",
    "+ *axis=1* means each row produces a separate result"
   ]
  },
  {
   "cell_type": "code",
   "execution_count": 7,
   "metadata": {},
   "outputs": [
    {
     "name": "stdout",
     "output_type": "stream",
     "text": [
      "1\n",
      "[4 6 8]\n",
      "[2. 4.]\n"
     ]
    }
   ],
   "source": [
    "# declare a 2D array\n",
    "mat=np.array([[1, 2, 3], [3, 4, 5]]) \n",
    "\n",
    "# Operation performed on the entire array\n",
    "print(np.min(mat))\n",
    "# Operation performed on each column\n",
    "print(np.sum(mat, axis=0))\n",
    "# Operation performed on each row\n",
    "print(np.average(mat, axis=1))"
   ]
  },
  {
   "cell_type": "markdown",
   "metadata": {},
   "source": [
    "The *reshape()* function may be used to change the shape of an array."
   ]
  },
  {
   "cell_type": "code",
   "execution_count": 8,
   "metadata": {},
   "outputs": [
    {
     "name": "stdout",
     "output_type": "stream",
     "text": [
      "[[1 2 3]\n",
      " [3 4 5]]\n",
      "[[1 2]\n",
      " [3 3]\n",
      " [4 5]]\n"
     ]
    }
   ],
   "source": [
    "print(mat) # old shape\n",
    "mat2=mat.reshape(3, 2) # changinf the shape of the array\n",
    "print(mat2) # new shape"
   ]
  },
  {
   "cell_type": "markdown",
   "metadata": {},
   "source": [
    "the np.arange() works like the range() function, in that it creates an array of elements within a specified range. the parameters are:\n",
    "+ start: where the range starts (the stratinh element)\n",
    "+ stop: where the range stops (non-inclusive)\n",
    "+ step: by how much each subsequent element in the array should increase/decrease"
   ]
  },
  {
   "cell_type": "code",
   "execution_count": 9,
   "metadata": {},
   "outputs": [
    {
     "name": "stdout",
     "output_type": "stream",
     "text": [
      "[2 4 6 8]\n",
      "[10  8  6  4  2]\n"
     ]
    }
   ],
   "source": [
    "arr1=np.arange(2, 10, 2)\n",
    "print(arr1)\n",
    "\n",
    "arr2=np.arange(10, 1, -2)\n",
    "print(arr2)"
   ]
  },
  {
   "cell_type": "markdown",
   "metadata": {},
   "source": [
    "### Copy vs View"
   ]
  },
  {
   "cell_type": "markdown",
   "metadata": {},
   "source": [
    "+ Use the `.copy()` method to create a copy of a *NumPy* array, and\n",
    "+ Use the `.view()` method to create a view."
   ]
  },
  {
   "cell_type": "code",
   "execution_count": 10,
   "metadata": {},
   "outputs": [
    {
     "name": "stdout",
     "output_type": "stream",
     "text": [
      "[1 2 3 4 5 6]\n",
      "[1 2 3 4 5 6]\n"
     ]
    }
   ],
   "source": [
    "# declare an array\n",
    "arr=np.array([1, 2, 3, 4, 5, 6])\n",
    "\n",
    "# create a copy\n",
    "arr2=arr.copy()\n",
    "print(arr2)\n",
    "\n",
    "# create a view\n",
    "arr3=arr.view()\n",
    "print(arr3)"
   ]
  },
  {
   "cell_type": "markdown",
   "metadata": {},
   "source": [
    "These both produce the same result. However the difference is that:\n",
    "\n",
    "+ A *copy* creates a new, independent array from an existing one. Any change made to the original will not be reflected in the new one, and vice-versa.\n",
    "+ A *view* simply displays the array. Hence any change made to the array will be reflected in the view, and vice-versa."
   ]
  },
  {
   "cell_type": "code",
   "execution_count": 11,
   "metadata": {},
   "outputs": [
    {
     "name": "stdout",
     "output_type": "stream",
     "text": [
      "[10  2  3  4  5  6]\n",
      "[1 2 3 4 5 6]\n",
      "[10  2  3  4  5  6]\n"
     ]
    }
   ],
   "source": [
    "# make a change to arr\n",
    "arr[0]=10\n",
    "print(arr)\n",
    "\n",
    "# arr2 is a copy of arr, so it remains the same\n",
    "print(arr2)\n",
    "\n",
    "# arr3 is a view of arr, so it changes\n",
    "print(arr3)"
   ]
  },
  {
   "cell_type": "code",
   "execution_count": 12,
   "metadata": {},
   "outputs": [
    {
     "name": "stdout",
     "output_type": "stream",
     "text": [
      "[10  2  3  4  5  6]\n",
      "[10  2 30  4  5  6]\n"
     ]
    }
   ],
   "source": [
    "# similarly, make a change in arr2 (the copy)\n",
    "arr2[1]=20\n",
    "\n",
    "# arr remains the same\n",
    "print(arr)\n",
    "\n",
    "# make a change in arr3 (the view)\n",
    "arr3[2]=30\n",
    "\n",
    "# arr changes\n",
    "print(arr)"
   ]
  },
  {
   "cell_type": "markdown",
   "metadata": {},
   "source": [
    "### Iteration"
   ]
  },
  {
   "cell_type": "markdown",
   "metadata": {},
   "source": [
    "You can iterate over the *NumPy* array just like in a normal list."
   ]
  },
  {
   "cell_type": "code",
   "execution_count": 13,
   "metadata": {},
   "outputs": [
    {
     "name": "stdout",
     "output_type": "stream",
     "text": [
      "10\n",
      "2\n",
      "30\n",
      "4\n",
      "5\n",
      "6\n"
     ]
    }
   ],
   "source": [
    "for i in arr:\n",
    "    print(i)"
   ]
  },
  {
   "cell_type": "markdown",
   "metadata": {},
   "source": [
    "This approach becomes difficult with higher dimensional arrays, as the number of nested loops becomes too much. For this reason, we use the `np.nditer()` method."
   ]
  },
  {
   "cell_type": "code",
   "execution_count": 14,
   "metadata": {},
   "outputs": [
    {
     "name": "stdout",
     "output_type": "stream",
     "text": [
      "1 2 3 4 5 6 \n",
      "1 2 3 4 5 6 "
     ]
    }
   ],
   "source": [
    "# 2D array\n",
    "arr=np.array([[1, 2, 3], [4, 5, 6]])\n",
    "\n",
    "# using for loops\n",
    "for i in arr:\n",
    "    for j in i:\n",
    "        print(j, end=\" \")\n",
    "\n",
    "print()\n",
    "\n",
    "# using np.nditer()\n",
    "for i in np.nditer(arr):\n",
    "    print(i, end=\" \")"
   ]
  },
  {
   "cell_type": "markdown",
   "metadata": {},
   "source": [
    "The datatype of the element may be changed while iterating. *NumPy* does not perform this conversion in place, therefore it requires a buffer space. this is provided in the parameter \n",
    "`flags=['buffered]`."
   ]
  },
  {
   "cell_type": "code",
   "execution_count": 15,
   "metadata": {},
   "outputs": [
    {
     "name": "stdout",
     "output_type": "stream",
     "text": [
      "b'1'\n",
      "b'2'\n",
      "b'3'\n",
      "b'4'\n",
      "b'5'\n",
      "b'6'\n"
     ]
    }
   ],
   "source": [
    "for x in np.nditer(arr, flags=['buffered'], op_dtypes=['S']):\n",
    "  print(x)"
   ]
  },
  {
   "cell_type": "markdown",
   "metadata": {},
   "source": [
    "The step size may be changed while iterating.\n"
   ]
  },
  {
   "cell_type": "code",
   "execution_count": 16,
   "metadata": {},
   "outputs": [
    {
     "name": "stdout",
     "output_type": "stream",
     "text": [
      "1\n",
      "3\n",
      "4\n",
      "6\n"
     ]
    }
   ],
   "source": [
    "for x in np.nditer(arr[:, ::2]): # iterate over every other element in the array\n",
    "    print(x)"
   ]
  },
  {
   "cell_type": "markdown",
   "metadata": {},
   "source": [
    "If you want to display the index during iteration, use the `np.ndenumerate()` method."
   ]
  },
  {
   "cell_type": "code",
   "execution_count": 17,
   "metadata": {},
   "outputs": [
    {
     "name": "stdout",
     "output_type": "stream",
     "text": [
      "(0, 0) 1\n",
      "(0, 1) 2\n",
      "(0, 2) 3\n",
      "(1, 0) 4\n",
      "(1, 1) 5\n",
      "(1, 2) 6\n"
     ]
    }
   ],
   "source": [
    "for i, x in np.ndenumerate(arr):\n",
    "    print(i, x)"
   ]
  },
  {
   "cell_type": "markdown",
   "metadata": {},
   "source": [
    "### Exercise"
   ]
  },
  {
   "cell_type": "markdown",
   "metadata": {},
   "source": [
    "Given below is the data of 50 passengers from the Titanic dataset. Each row of the array contains 4 values:\n",
    "1. passenger id\n",
    "2. survived? (1-yes, 0-no)\n",
    "3. passenger class (1-upper, 2-middle, 3-lower)\n",
    "4. age\n",
    "\n",
    "Analyse the data and find the following information:\n",
    "\n",
    "1. What is the shape of this array?\n",
    "2. What is the average age of the passengers?\n",
    "3. What is the passenger number of the oldest passenger? Who is the youngest?\n",
    "4. What is the percentage of folks that survived?\n",
    "5. Percentage of people that survived, based on their passenger class"
   ]
  },
  {
   "cell_type": "code",
   "execution_count": 18,
   "metadata": {},
   "outputs": [],
   "source": [
    "passengers = np.array([\n",
    "   [1, 0, 3, 22],\n",
    "   [2, 1, 1, 38],\n",
    "   [3, 1, 3, 26],\n",
    "   [4, 1, 1, 35],\n",
    "   [5, 0, 3, 35],\n",
    "   [6, 0, 3, 18],\n",
    "   [7, 0, 1, 54],\n",
    "   [8, 0, 3, 2],\n",
    "   [9, 1, 3, 27],\n",
    "  [10, 1, 2, 14],\n",
    "  [11, 1, 3, 4],\n",
    "  [12, 1, 1, 58],\n",
    "  [13, 0, 3, 20],\n",
    "  [14, 0, 3, 39],\n",
    "  [15, 0, 3, 14],\n",
    "  [16, 1, 2, 55],\n",
    "  [17, 0, 3, 2],\n",
    "  [18, 1, 2, 12],\n",
    "  [19, 0, 3, 31],\n",
    "  [20, 1, 3, 8],\n",
    "  [21, 0, 2, 35],\n",
    "  [22, 1, 2, 34],\n",
    "  [23, 1, 3, 15],\n",
    "  [24, 1, 1, 28],\n",
    "  [25, 0, 3, 8],\n",
    "  [26, 1, 3, 38],\n",
    "  [27, 0, 3, 2],\n",
    "  [28, 0, 1, 1],\n",
    "  [29, 1, 3, 5],\n",
    "  [30, 0, 3, 18],\n",
    "  [31, 0, 1, 40],\n",
    "  [32, 1, 1, 70],\n",
    "  [33, 1, 3, 33],\n",
    "  [34, 0, 2, 66],\n",
    "  [35, 0, 1, 28],\n",
    "  [36, 0, 1, 42],\n",
    "  [37, 1, 3, 5],\n",
    "  [38, 0, 3, 18],\n",
    "  [39, 0, 3, 18],\n",
    "  [40, 1, 3, 14],\n",
    "  [41, 0, 3, 40],\n",
    "  [42, 0, 2, 27],\n",
    "  [43, 0, 3, 29],\n",
    "  [44, 1, 2, 0],\n",
    "  [45, 1, 3, 19],\n",
    "  [46, 0, 3, 33],\n",
    "  [47, 0, 3, 14],\n",
    "  [48, 1, 3, 22],\n",
    "  [49, 0, 3, 41],\n",
    "  [50, 0, 3, 18]\n",
    "])"
   ]
  },
  {
   "cell_type": "code",
   "execution_count": 19,
   "metadata": {},
   "outputs": [
    {
     "name": "stdout",
     "output_type": "stream",
     "text": [
      "(50, 4)\n",
      "25.5\n",
      "1\n",
      "2\n"
     ]
    }
   ],
   "source": [
    "# 1. shape of the array\n",
    "print(passengers.shape)\n",
    "\n",
    "# 2. average age of the passengers\n",
    "print(np.average(passengers[:, 3]))\n",
    "\n",
    "# 3. oldest passenger\n",
    "maxage = np.max(passengers[:, 3])\n",
    "oldest=passengers[passengers[:, 3] == maxage]\n",
    "print(oldest[0][2])\n",
    "\n",
    "# youngest passenger\n",
    "minage = np.min(passengers[:, 3])\n",
    "youngest=passengers[passengers[:, 3] == minage]\n",
    "print(youngest[0][2])\n"
   ]
  },
  {
   "cell_type": "code",
   "execution_count": 20,
   "metadata": {},
   "outputs": [
    {
     "name": "stdout",
     "output_type": "stream",
     "text": [
      "44.0\n"
     ]
    }
   ],
   "source": [
    "# 4. percentage of passengers that survived\n",
    "survived = passengers[passengers[:, 1] == 1]\n",
    "survival_rate = (survived.shape[0]/passengers.shape[0])*100\n",
    "print(survival_rate)"
   ]
  },
  {
   "cell_type": "code",
   "execution_count": 21,
   "metadata": {},
   "outputs": [
    {
     "name": "stdout",
     "output_type": "stream",
     "text": [
      "50.0\n",
      "62.5\n",
      "37.5\n"
     ]
    }
   ],
   "source": [
    "# 5. percentage of passengers that survived based on their passenger class\n",
    "first_class = passengers[passengers[:, 2] == 1]\n",
    "second_class = passengers[passengers[:, 2] == 2]\n",
    "third_class = passengers[passengers[:, 2] == 3]\n",
    "\n",
    "first_class_survived = first_class[first_class[:, 1] == 1]\n",
    "second_class_survived = second_class[second_class[:, 1] == 1]\n",
    "third_class_survived = third_class[third_class[:, 1] == 1]\n",
    "\n",
    "first_class_survival_rate = (first_class_survived.shape[0]/first_class.shape[0])*100\n",
    "second_class_survival_rate = (second_class_survived.shape[0]/second_class.shape[0])*100\n",
    "third_class_survival_rate = (third_class_survived.shape[0]/third_class.shape[0])*100\n",
    "\n",
    "print(first_class_survival_rate)\n",
    "print(second_class_survival_rate)\n",
    "print(third_class_survival_rate)"
   ]
  },
  {
   "cell_type": "markdown",
   "metadata": {},
   "source": [
    "### Sources"
   ]
  },
  {
   "cell_type": "markdown",
   "metadata": {},
   "source": [
    "+ *Codedex* - https://www.codedex.io/numpy\n",
    "+ *w3schools* - https://www.w3schools.com/python/numpy/default.asp"
   ]
  }
 ],
 "metadata": {
  "kernelspec": {
   "display_name": "Python 3",
   "language": "python",
   "name": "python3"
  },
  "language_info": {
   "codemirror_mode": {
    "name": "ipython",
    "version": 3
   },
   "file_extension": ".py",
   "mimetype": "text/x-python",
   "name": "python",
   "nbconvert_exporter": "python",
   "pygments_lexer": "ipython3",
   "version": "3.12.2"
  }
 },
 "nbformat": 4,
 "nbformat_minor": 2
}
