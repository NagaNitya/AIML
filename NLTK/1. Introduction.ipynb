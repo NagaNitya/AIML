{
 "cells": [
  {
   "cell_type": "markdown",
   "metadata": {},
   "source": [
    "# Introduction to NLTK"
   ]
  },
  {
   "cell_type": "markdown",
   "metadata": {},
   "source": [
    "NLTK is a python library that specialises in NLP tasks such as text generation, spell check etc. `nltk` offers various functionalities that correspond to different steps/stages in NLP, namely:\n",
    "\n",
    "+ tokenisation\n",
    "+ morphological analysis\n",
    "+ syntactic analysis\n",
    "+ semantic analysis\n",
    "+ discourse integration\n"
   ]
  },
  {
   "cell_type": "code",
   "execution_count": null,
   "metadata": {},
   "outputs": [],
   "source": [
    "import nltk"
   ]
  },
  {
   "cell_type": "markdown",
   "metadata": {},
   "source": [
    "### Tokenisation"
   ]
  },
  {
   "cell_type": "markdown",
   "metadata": {},
   "source": [
    "LLMs are trained on tokens, which are small units of data. these may be words, subwords, or or other data."
   ]
  },
  {
   "cell_type": "code",
   "execution_count": null,
   "metadata": {},
   "outputs": [
    {
     "name": "stdout",
     "output_type": "stream",
     "text": [
      "['welcome', 'to', 'the', 'adventurer', \"'s\", 'guild', '!']\n"
     ]
    }
   ],
   "source": [
    "from nltk.tokenize import word_tokenize\n",
    "\n",
    "# take a sample text as follows:\n",
    "sample_text=\"Welcome to the Adventurer's Guild!\"\n",
    "#tokenize the sample text\n",
    "tokens = nltk.word_tokenize(sample_text.lower())\n",
    "#print the tokens:\n",
    "print(tokens)"
   ]
  }
 ],
 "metadata": {
  "kernelspec": {
   "display_name": "Python 3",
   "language": "python",
   "name": "python3"
  },
  "language_info": {
   "name": "python",
   "version": "3.12.2"
  }
 },
 "nbformat": 4,
 "nbformat_minor": 2
}
