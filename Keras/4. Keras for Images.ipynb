{
 "cells": [
  {
   "cell_type": "markdown",
   "metadata": {},
   "source": [
    "# Keras for Images"
   ]
  },
  {
   "cell_type": "markdown",
   "metadata": {},
   "source": [
    "In the last notebook, we made use of the `boston_housing` numbered dataset to test the working of some of the fundamental features offered by keras: the `Dense` layer, regularisation, batch normalisation, optimisers and the `EarlyStopping` callback.\n",
    "\n",
    "In this notebook we shall look into the features and functionalities offered by Keras for image datasets."
   ]
  },
  {
   "cell_type": "markdown",
   "metadata": {},
   "source": [
    "A *Convolutional Neural Network (CNN)* is a deep learning model that is commonly used for working with images. The basic structure of a CNN is as follows:\n",
    "1. A *convolutional layer* is included, which consists of a number of filters/kernels. these kernels extract features from the images.\n",
    "2. Next comes the *pooling layer*. The main function of the pooling layer is to downsize the imput, making it easier to compute.\n",
    "3. A *dense layer* is included at last, which makes the final prediction on the data.\n",
    "4. *Activation layers* are included to introduce non-linearity into the network.\n",
    "\n",
    "Each layer is included in the `keras.layers` module."
   ]
  },
  {
   "cell_type": "markdown",
   "metadata": {},
   "source": [
    "### The Convolutional Layer"
   ]
  },
  {
   "cell_type": "markdown",
   "metadata": {},
   "source": [
    "There are 3 types of convolutional layers in keras. These are:\n",
    "1. `keras.layers.Conv1D`: This layer is useful for processing 1D sequence data, such as temporal data or text.\n",
    "\n",
    "    > In a 1 dimensional CNN, the kernel moves in 1 direction. Input and output data of a 1 dimensional CNN is 2 dimensional...\n",
    "\n",
    "2. `keras.layers.Conv2D`: This layer is useful for processing 2D data such as images.\n",
    "\n",
    "    > In a 2 dimensional CNN, the kernel moves in 2 directions. Input and output data of a 2 dimensional CNN is 3 dimensional...apart from left and right you can move up and down (x,y).\n",
    "\n",
    "3. `keras.layers.Conv3D`: This layer is useful for processing 3D data such as MRI data.\n",
    "\n",
    "    > In a 3 dimensional CNN, the kernel moves in 2 directions. Input and output data of a 3 dimensional CNN is 4 dimensional. Since the kernel slides in 3 dimensions you have (x,y,z) possible movements.\n",
    "\n",
    "Since we are focusing on image data, we will use the Conv2D layer.\n",
    "\n",
    "Syntax is as follows:"
   ]
  },
  {
   "cell_type": "code",
   "execution_count": null,
   "metadata": {},
   "outputs": [],
   "source": [
    "layers.Conv2D(filters=32, kernel_size=(3, 3), strides=(1,1), activation='relu', padding='same')"
   ]
  },
  {
   "cell_type": "markdown",
   "metadata": {},
   "source": [
    "+ `filters`: Specifies number of filters/kernels for the convolution layer to generate the feature map.\n",
    "+ `kernel_size`: Dimensions of the Convolution kernel is included through this parameter.\n",
    "+ `strides` : The stride determines the step size of the kernel during convolution.\n",
    "+ `activation` : To specify the activation function to introduce non linearity to the layer.\n",
    "\n",
    "Other optional parameters include padding, kernel_initializer etc."
   ]
  },
  {
   "cell_type": "markdown",
   "metadata": {},
   "source": [
    "### The Pooling Layer"
   ]
  },
  {
   "cell_type": "markdown",
   "metadata": {},
   "source": [
    "Pooling layer is used to reduce the dimensions of the feature map from the previous layer before passing it to next layer in-order to make the computation faster and prevent overfitting. The types of pooling layers offered in keras include:\n",
    "+ Max Pooling: The maximum value from each patch of the feature map is calculated and included. (`keras.layers.MaxPooling1D`, `keras.layers.MaxPooling2D`, `keras.layers.MaxPooling3D`)\n",
    "+ Average pooling: The average value from each patch of the feature map is calculated and included. (`keras.layers.AveragePooling1D`, `keras.layers.AveragePooling2D`, `keras.layers.AveragePooling3D`)\n",
    "\n",
    "The type of pooling used corresponds to the type of convolution.\n",
    "\n",
    "Syntax is as follows:"
   ]
  },
  {
   "cell_type": "code",
   "execution_count": null,
   "metadata": {},
   "outputs": [],
   "source": [
    "layers.MaxPooling2D(pool_size=(2,2), strides=(1,1), padding='same')"
   ]
  },
  {
   "cell_type": "markdown",
   "metadata": {},
   "source": [
    "### Sources"
   ]
  },
  {
   "cell_type": "markdown",
   "metadata": {},
   "source": [
    "+ Keras Documentation\n",
    "+ [towardsdatascience.com](https://towardsdatascience.com/understanding-1d-and-3d-convolution-neural-network-keras-9d8f76e29610)\n",
    "+ [stackoverflow.com](https://stackoverflow.com/questions/71231519/difference-between-conv1d-conv2d-conv3d-and-where-to-use-which-in-convolutiona)\n",
    "+ [geeksforgeeks.org](https://www.geeksforgeeks.org/keras-layers-api/)"
   ]
  }
 ],
 "metadata": {
  "language_info": {
   "name": "python"
  }
 },
 "nbformat": 4,
 "nbformat_minor": 2
}
