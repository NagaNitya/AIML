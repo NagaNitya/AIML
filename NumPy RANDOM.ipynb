{
 "cells": [
  {
   "cell_type": "markdown",
   "metadata": {},
   "source": [
    "**LEARNING NumPy RANDOM FUNCTIONS**"
   ]
  },
  {
   "cell_type": "markdown",
   "metadata": {},
   "source": [
    "Random numbers are those which cannot be predicted or put in a sequence. Computers use algorithms to generate randome numbers; these are called *pseudo-random* numbers."
   ]
  },
  {
   "cell_type": "code",
   "execution_count": 6,
   "metadata": {},
   "outputs": [],
   "source": [
    "from numpy import random # module in NumPy to generate random numbers"
   ]
  },
  {
   "cell_type": "markdown",
   "metadata": {},
   "source": [
    "Random number may be generated using the `random` module in *NumPy*. The methods to create random numbers are:\n",
    "+ `random.rand()` for float\n",
    "+ `random.randint()` for int\n",
    "\n",
    "These may be applied to generate an array of random numbers as well, by passing the array size as parameters. Besides these methods, we can use the `random.choice()` to select a random element of a given array."
   ]
  },
  {
   "cell_type": "code",
   "execution_count": 7,
   "metadata": {},
   "outputs": [
    {
     "name": "stdout",
     "output_type": "stream",
     "text": [
      "69\n",
      "0.8474290944437843\n",
      "[[18 20 45 31]\n",
      " [46  0  6 10]\n",
      " [ 1 39 33 32]]\n",
      "[0.98624562 0.52608127 0.7593254  0.43436647]\n",
      "7\n"
     ]
    }
   ],
   "source": [
    "print(random.randint(1, 100)) # generate a random integer between 1 and 100\n",
    "print(random.rand()) # generate a random float between 0 and 1\n",
    "print(random.randint(50, size=(3, 4)))\n",
    "print(random.rand(4))\n",
    "print(random.choice([2, 3, 4, 5, 7, 8, 1]))"
   ]
  }
 ],
 "metadata": {
  "kernelspec": {
   "display_name": "Python 3",
   "language": "python",
   "name": "python3"
  },
  "language_info": {
   "codemirror_mode": {
    "name": "ipython",
    "version": 3
   },
   "file_extension": ".py",
   "mimetype": "text/x-python",
   "name": "python",
   "nbconvert_exporter": "python",
   "pygments_lexer": "ipython3",
   "version": "3.12.2"
  }
 },
 "nbformat": 4,
 "nbformat_minor": 2
}
